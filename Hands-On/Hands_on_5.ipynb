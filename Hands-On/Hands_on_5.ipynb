{
  "cells": [
    {
      "cell_type": "code",
      "execution_count": 1,
      "id": "By-neFDS0EL4",
      "metadata": {
        "colab": {
          "base_uri": "https://localhost:8080/"
        },
        "id": "By-neFDS0EL4",
        "outputId": "d920e10b-c979-4e8f-db8b-e1d9e119a120"
      },
      "outputs": [
        {
          "output_type": "stream",
          "name": "stdout",
          "text": [
            "Collecting qiskit\n",
            "  Downloading qiskit-1.2.4-cp38-abi3-manylinux_2_17_x86_64.manylinux2014_x86_64.whl.metadata (12 kB)\n",
            "Collecting rustworkx>=0.15.0 (from qiskit)\n",
            "  Downloading rustworkx-0.15.1-cp38-abi3-manylinux_2_17_x86_64.manylinux2014_x86_64.whl.metadata (9.9 kB)\n",
            "Requirement already satisfied: numpy<3,>=1.17 in /usr/local/lib/python3.10/dist-packages (from qiskit) (1.26.4)\n",
            "Requirement already satisfied: scipy>=1.5 in /usr/local/lib/python3.10/dist-packages (from qiskit) (1.13.1)\n",
            "Requirement already satisfied: sympy>=1.3 in /usr/local/lib/python3.10/dist-packages (from qiskit) (1.13.1)\n",
            "Collecting dill>=0.3 (from qiskit)\n",
            "  Downloading dill-0.3.9-py3-none-any.whl.metadata (10 kB)\n",
            "Requirement already satisfied: python-dateutil>=2.8.0 in /usr/local/lib/python3.10/dist-packages (from qiskit) (2.8.2)\n",
            "Collecting stevedore>=3.0.0 (from qiskit)\n",
            "  Downloading stevedore-5.3.0-py3-none-any.whl.metadata (2.3 kB)\n",
            "Requirement already satisfied: typing-extensions in /usr/local/lib/python3.10/dist-packages (from qiskit) (4.12.2)\n",
            "Collecting symengine<0.14,>=0.11 (from qiskit)\n",
            "  Downloading symengine-0.13.0-cp310-cp310-manylinux_2_17_x86_64.manylinux2014_x86_64.whl.metadata (1.2 kB)\n",
            "Requirement already satisfied: six>=1.5 in /usr/local/lib/python3.10/dist-packages (from python-dateutil>=2.8.0->qiskit) (1.16.0)\n",
            "Collecting pbr>=2.0.0 (from stevedore>=3.0.0->qiskit)\n",
            "  Downloading pbr-6.1.0-py2.py3-none-any.whl.metadata (3.4 kB)\n",
            "Requirement already satisfied: mpmath<1.4,>=1.1.0 in /usr/local/lib/python3.10/dist-packages (from sympy>=1.3->qiskit) (1.3.0)\n",
            "Downloading qiskit-1.2.4-cp38-abi3-manylinux_2_17_x86_64.manylinux2014_x86_64.whl (4.8 MB)\n",
            "\u001b[2K   \u001b[90m━━━━━━━━━━━━━━━━━━━━━━━━━━━━━━━━━━━━━━━━\u001b[0m \u001b[32m4.8/4.8 MB\u001b[0m \u001b[31m20.4 MB/s\u001b[0m eta \u001b[36m0:00:00\u001b[0m\n",
            "\u001b[?25hDownloading dill-0.3.9-py3-none-any.whl (119 kB)\n",
            "\u001b[2K   \u001b[90m━━━━━━━━━━━━━━━━━━━━━━━━━━━━━━━━━━━━━━━━\u001b[0m \u001b[32m119.4/119.4 kB\u001b[0m \u001b[31m4.2 MB/s\u001b[0m eta \u001b[36m0:00:00\u001b[0m\n",
            "\u001b[?25hDownloading rustworkx-0.15.1-cp38-abi3-manylinux_2_17_x86_64.manylinux2014_x86_64.whl (2.0 MB)\n",
            "\u001b[2K   \u001b[90m━━━━━━━━━━━━━━━━━━━━━━━━━━━━━━━━━━━━━━━━\u001b[0m \u001b[32m2.0/2.0 MB\u001b[0m \u001b[31m18.6 MB/s\u001b[0m eta \u001b[36m0:00:00\u001b[0m\n",
            "\u001b[?25hDownloading stevedore-5.3.0-py3-none-any.whl (49 kB)\n",
            "\u001b[2K   \u001b[90m━━━━━━━━━━━━━━━━━━━━━━━━━━━━━━━━━━━━━━━━\u001b[0m \u001b[32m49.7/49.7 kB\u001b[0m \u001b[31m2.7 MB/s\u001b[0m eta \u001b[36m0:00:00\u001b[0m\n",
            "\u001b[?25hDownloading symengine-0.13.0-cp310-cp310-manylinux_2_17_x86_64.manylinux2014_x86_64.whl (49.7 MB)\n",
            "\u001b[2K   \u001b[90m━━━━━━━━━━━━━━━━━━━━━━━━━━━━━━━━━━━━━━━━\u001b[0m \u001b[32m49.7/49.7 MB\u001b[0m \u001b[31m10.1 MB/s\u001b[0m eta \u001b[36m0:00:00\u001b[0m\n",
            "\u001b[?25hDownloading pbr-6.1.0-py2.py3-none-any.whl (108 kB)\n",
            "\u001b[2K   \u001b[90m━━━━━━━━━━━━━━━━━━━━━━━━━━━━━━━━━━━━━━━━\u001b[0m \u001b[32m108.5/108.5 kB\u001b[0m \u001b[31m4.5 MB/s\u001b[0m eta \u001b[36m0:00:00\u001b[0m\n",
            "\u001b[?25hInstalling collected packages: symengine, rustworkx, pbr, dill, stevedore, qiskit\n",
            "Successfully installed dill-0.3.9 pbr-6.1.0 qiskit-1.2.4 rustworkx-0.15.1 stevedore-5.3.0 symengine-0.13.0\n",
            "Collecting qiskit-Aer\n",
            "  Downloading qiskit_aer-0.15.1-cp310-cp310-manylinux_2_17_x86_64.manylinux2014_x86_64.whl.metadata (8.0 kB)\n",
            "Requirement already satisfied: qiskit>=1.1.0 in /usr/local/lib/python3.10/dist-packages (from qiskit-Aer) (1.2.4)\n",
            "Requirement already satisfied: numpy>=1.16.3 in /usr/local/lib/python3.10/dist-packages (from qiskit-Aer) (1.26.4)\n",
            "Requirement already satisfied: scipy>=1.0 in /usr/local/lib/python3.10/dist-packages (from qiskit-Aer) (1.13.1)\n",
            "Requirement already satisfied: psutil>=5 in /usr/local/lib/python3.10/dist-packages (from qiskit-Aer) (5.9.5)\n",
            "Requirement already satisfied: rustworkx>=0.15.0 in /usr/local/lib/python3.10/dist-packages (from qiskit>=1.1.0->qiskit-Aer) (0.15.1)\n",
            "Requirement already satisfied: sympy>=1.3 in /usr/local/lib/python3.10/dist-packages (from qiskit>=1.1.0->qiskit-Aer) (1.13.1)\n",
            "Requirement already satisfied: dill>=0.3 in /usr/local/lib/python3.10/dist-packages (from qiskit>=1.1.0->qiskit-Aer) (0.3.9)\n",
            "Requirement already satisfied: python-dateutil>=2.8.0 in /usr/local/lib/python3.10/dist-packages (from qiskit>=1.1.0->qiskit-Aer) (2.8.2)\n",
            "Requirement already satisfied: stevedore>=3.0.0 in /usr/local/lib/python3.10/dist-packages (from qiskit>=1.1.0->qiskit-Aer) (5.3.0)\n",
            "Requirement already satisfied: typing-extensions in /usr/local/lib/python3.10/dist-packages (from qiskit>=1.1.0->qiskit-Aer) (4.12.2)\n",
            "Requirement already satisfied: symengine<0.14,>=0.11 in /usr/local/lib/python3.10/dist-packages (from qiskit>=1.1.0->qiskit-Aer) (0.13.0)\n",
            "Requirement already satisfied: six>=1.5 in /usr/local/lib/python3.10/dist-packages (from python-dateutil>=2.8.0->qiskit>=1.1.0->qiskit-Aer) (1.16.0)\n",
            "Requirement already satisfied: pbr>=2.0.0 in /usr/local/lib/python3.10/dist-packages (from stevedore>=3.0.0->qiskit>=1.1.0->qiskit-Aer) (6.1.0)\n",
            "Requirement already satisfied: mpmath<1.4,>=1.1.0 in /usr/local/lib/python3.10/dist-packages (from sympy>=1.3->qiskit>=1.1.0->qiskit-Aer) (1.3.0)\n",
            "Downloading qiskit_aer-0.15.1-cp310-cp310-manylinux_2_17_x86_64.manylinux2014_x86_64.whl (12.3 MB)\n",
            "\u001b[2K   \u001b[90m━━━━━━━━━━━━━━━━━━━━━━━━━━━━━━━━━━━━━━━━\u001b[0m \u001b[32m12.3/12.3 MB\u001b[0m \u001b[31m56.7 MB/s\u001b[0m eta \u001b[36m0:00:00\u001b[0m\n",
            "\u001b[?25hInstalling collected packages: qiskit-Aer\n",
            "Successfully installed qiskit-Aer-0.15.1\n",
            "Collecting qiskit_algorithms\n",
            "  Downloading qiskit_algorithms-0.3.1-py3-none-any.whl.metadata (4.2 kB)\n",
            "Requirement already satisfied: qiskit>=0.44 in /usr/local/lib/python3.10/dist-packages (from qiskit_algorithms) (1.2.4)\n",
            "Requirement already satisfied: scipy>=1.4 in /usr/local/lib/python3.10/dist-packages (from qiskit_algorithms) (1.13.1)\n",
            "Requirement already satisfied: numpy>=1.17 in /usr/local/lib/python3.10/dist-packages (from qiskit_algorithms) (1.26.4)\n",
            "Requirement already satisfied: rustworkx>=0.15.0 in /usr/local/lib/python3.10/dist-packages (from qiskit>=0.44->qiskit_algorithms) (0.15.1)\n",
            "Requirement already satisfied: sympy>=1.3 in /usr/local/lib/python3.10/dist-packages (from qiskit>=0.44->qiskit_algorithms) (1.13.1)\n",
            "Requirement already satisfied: dill>=0.3 in /usr/local/lib/python3.10/dist-packages (from qiskit>=0.44->qiskit_algorithms) (0.3.9)\n",
            "Requirement already satisfied: python-dateutil>=2.8.0 in /usr/local/lib/python3.10/dist-packages (from qiskit>=0.44->qiskit_algorithms) (2.8.2)\n",
            "Requirement already satisfied: stevedore>=3.0.0 in /usr/local/lib/python3.10/dist-packages (from qiskit>=0.44->qiskit_algorithms) (5.3.0)\n",
            "Requirement already satisfied: typing-extensions in /usr/local/lib/python3.10/dist-packages (from qiskit>=0.44->qiskit_algorithms) (4.12.2)\n",
            "Requirement already satisfied: symengine<0.14,>=0.11 in /usr/local/lib/python3.10/dist-packages (from qiskit>=0.44->qiskit_algorithms) (0.13.0)\n",
            "Requirement already satisfied: six>=1.5 in /usr/local/lib/python3.10/dist-packages (from python-dateutil>=2.8.0->qiskit>=0.44->qiskit_algorithms) (1.16.0)\n",
            "Requirement already satisfied: pbr>=2.0.0 in /usr/local/lib/python3.10/dist-packages (from stevedore>=3.0.0->qiskit>=0.44->qiskit_algorithms) (6.1.0)\n",
            "Requirement already satisfied: mpmath<1.4,>=1.1.0 in /usr/local/lib/python3.10/dist-packages (from sympy>=1.3->qiskit>=0.44->qiskit_algorithms) (1.3.0)\n",
            "Downloading qiskit_algorithms-0.3.1-py3-none-any.whl (310 kB)\n",
            "\u001b[2K   \u001b[90m━━━━━━━━━━━━━━━━━━━━━━━━━━━━━━━━━━━━━━━━\u001b[0m \u001b[32m310.5/310.5 kB\u001b[0m \u001b[31m14.6 MB/s\u001b[0m eta \u001b[36m0:00:00\u001b[0m\n",
            "\u001b[?25hInstalling collected packages: qiskit_algorithms\n",
            "Successfully installed qiskit_algorithms-0.3.1\n",
            "Collecting qiskit_nature\n",
            "  Downloading qiskit_nature-0.7.2-py3-none-any.whl.metadata (8.0 kB)\n",
            "Requirement already satisfied: qiskit>=0.44 in /usr/local/lib/python3.10/dist-packages (from qiskit_nature) (1.2.4)\n",
            "Requirement already satisfied: qiskit-algorithms>=0.2.1 in /usr/local/lib/python3.10/dist-packages (from qiskit_nature) (0.3.1)\n",
            "Requirement already satisfied: scipy>=1.4 in /usr/local/lib/python3.10/dist-packages (from qiskit_nature) (1.13.1)\n",
            "Requirement already satisfied: numpy>=1.17 in /usr/local/lib/python3.10/dist-packages (from qiskit_nature) (1.26.4)\n",
            "Requirement already satisfied: psutil>=5 in /usr/local/lib/python3.10/dist-packages (from qiskit_nature) (5.9.5)\n",
            "Requirement already satisfied: setuptools>=40.1.0 in /usr/local/lib/python3.10/dist-packages (from qiskit_nature) (75.1.0)\n",
            "Requirement already satisfied: typing-extensions in /usr/local/lib/python3.10/dist-packages (from qiskit_nature) (4.12.2)\n",
            "Requirement already satisfied: h5py in /usr/local/lib/python3.10/dist-packages (from qiskit_nature) (3.12.1)\n",
            "Requirement already satisfied: rustworkx>=0.12 in /usr/local/lib/python3.10/dist-packages (from qiskit_nature) (0.15.1)\n",
            "Requirement already satisfied: sympy>=1.3 in /usr/local/lib/python3.10/dist-packages (from qiskit>=0.44->qiskit_nature) (1.13.1)\n",
            "Requirement already satisfied: dill>=0.3 in /usr/local/lib/python3.10/dist-packages (from qiskit>=0.44->qiskit_nature) (0.3.9)\n",
            "Requirement already satisfied: python-dateutil>=2.8.0 in /usr/local/lib/python3.10/dist-packages (from qiskit>=0.44->qiskit_nature) (2.8.2)\n",
            "Requirement already satisfied: stevedore>=3.0.0 in /usr/local/lib/python3.10/dist-packages (from qiskit>=0.44->qiskit_nature) (5.3.0)\n",
            "Requirement already satisfied: symengine<0.14,>=0.11 in /usr/local/lib/python3.10/dist-packages (from qiskit>=0.44->qiskit_nature) (0.13.0)\n",
            "Requirement already satisfied: six>=1.5 in /usr/local/lib/python3.10/dist-packages (from python-dateutil>=2.8.0->qiskit>=0.44->qiskit_nature) (1.16.0)\n",
            "Requirement already satisfied: pbr>=2.0.0 in /usr/local/lib/python3.10/dist-packages (from stevedore>=3.0.0->qiskit>=0.44->qiskit_nature) (6.1.0)\n",
            "Requirement already satisfied: mpmath<1.4,>=1.1.0 in /usr/local/lib/python3.10/dist-packages (from sympy>=1.3->qiskit>=0.44->qiskit_nature) (1.3.0)\n",
            "Downloading qiskit_nature-0.7.2-py3-none-any.whl (2.2 MB)\n",
            "\u001b[2K   \u001b[90m━━━━━━━━━━━━━━━━━━━━━━━━━━━━━━━━━━━━━━━━\u001b[0m \u001b[32m2.2/2.2 MB\u001b[0m \u001b[31m38.4 MB/s\u001b[0m eta \u001b[36m0:00:00\u001b[0m\n",
            "\u001b[?25hInstalling collected packages: qiskit_nature\n",
            "Successfully installed qiskit_nature-0.7.2\n",
            "Requirement already satisfied: matplotlib in /usr/local/lib/python3.10/dist-packages (3.8.0)\n",
            "Requirement already satisfied: contourpy>=1.0.1 in /usr/local/lib/python3.10/dist-packages (from matplotlib) (1.3.1)\n",
            "Requirement already satisfied: cycler>=0.10 in /usr/local/lib/python3.10/dist-packages (from matplotlib) (0.12.1)\n",
            "Requirement already satisfied: fonttools>=4.22.0 in /usr/local/lib/python3.10/dist-packages (from matplotlib) (4.54.1)\n",
            "Requirement already satisfied: kiwisolver>=1.0.1 in /usr/local/lib/python3.10/dist-packages (from matplotlib) (1.4.7)\n",
            "Requirement already satisfied: numpy<2,>=1.21 in /usr/local/lib/python3.10/dist-packages (from matplotlib) (1.26.4)\n",
            "Requirement already satisfied: packaging>=20.0 in /usr/local/lib/python3.10/dist-packages (from matplotlib) (24.2)\n",
            "Requirement already satisfied: pillow>=6.2.0 in /usr/local/lib/python3.10/dist-packages (from matplotlib) (11.0.0)\n",
            "Requirement already satisfied: pyparsing>=2.3.1 in /usr/local/lib/python3.10/dist-packages (from matplotlib) (3.2.0)\n",
            "Requirement already satisfied: python-dateutil>=2.7 in /usr/local/lib/python3.10/dist-packages (from matplotlib) (2.8.2)\n",
            "Requirement already satisfied: six>=1.5 in /usr/local/lib/python3.10/dist-packages (from python-dateutil>=2.7->matplotlib) (1.16.0)\n",
            "Collecting pylatexenc\n",
            "  Downloading pylatexenc-2.10.tar.gz (162 kB)\n",
            "\u001b[2K     \u001b[90m━━━━━━━━━━━━━━━━━━━━━━━━━━━━━━━━━━━━━━━━\u001b[0m \u001b[32m162.6/162.6 kB\u001b[0m \u001b[31m9.1 MB/s\u001b[0m eta \u001b[36m0:00:00\u001b[0m\n",
            "\u001b[?25h  Preparing metadata (setup.py) ... \u001b[?25l\u001b[?25hdone\n",
            "Building wheels for collected packages: pylatexenc\n",
            "  Building wheel for pylatexenc (setup.py) ... \u001b[?25l\u001b[?25hdone\n",
            "  Created wheel for pylatexenc: filename=pylatexenc-2.10-py3-none-any.whl size=136816 sha256=847f4959e9a3a0ea0aef970759163bca8735fdf0da5a0f41fda9c3bfcee49a59\n",
            "  Stored in directory: /root/.cache/pip/wheels/d3/31/8b/e09b0386afd80cfc556c00408c9aeea5c35c4d484a9c762fd5\n",
            "Successfully built pylatexenc\n",
            "Installing collected packages: pylatexenc\n",
            "Successfully installed pylatexenc-2.10\n",
            "Collecting qiskit-ibm-runtime\n",
            "  Downloading qiskit_ibm_runtime-0.33.2-py3-none-any.whl.metadata (19 kB)\n",
            "Requirement already satisfied: requests>=2.19 in /usr/local/lib/python3.10/dist-packages (from qiskit-ibm-runtime) (2.32.3)\n",
            "Collecting requests-ntlm>=1.1.0 (from qiskit-ibm-runtime)\n",
            "  Downloading requests_ntlm-1.3.0-py3-none-any.whl.metadata (2.4 kB)\n",
            "Requirement already satisfied: numpy>=1.13 in /usr/local/lib/python3.10/dist-packages (from qiskit-ibm-runtime) (1.26.4)\n",
            "Requirement already satisfied: urllib3>=1.21.1 in /usr/local/lib/python3.10/dist-packages (from qiskit-ibm-runtime) (2.2.3)\n",
            "Requirement already satisfied: python-dateutil>=2.8.0 in /usr/local/lib/python3.10/dist-packages (from qiskit-ibm-runtime) (2.8.2)\n",
            "Requirement already satisfied: websocket-client>=1.5.1 in /usr/local/lib/python3.10/dist-packages (from qiskit-ibm-runtime) (1.8.0)\n",
            "Collecting ibm-platform-services>=0.22.6 (from qiskit-ibm-runtime)\n",
            "  Downloading ibm_platform_services-0.59.0-py3-none-any.whl.metadata (9.0 kB)\n",
            "Requirement already satisfied: pydantic>=2.5.0 in /usr/local/lib/python3.10/dist-packages (from qiskit-ibm-runtime) (2.9.2)\n",
            "Requirement already satisfied: qiskit>=1.1.0 in /usr/local/lib/python3.10/dist-packages (from qiskit-ibm-runtime) (1.2.4)\n",
            "Collecting ibm-cloud-sdk-core<4.0.0,>=3.22.0 (from ibm-platform-services>=0.22.6->qiskit-ibm-runtime)\n",
            "  Downloading ibm_cloud_sdk_core-3.22.0-py3-none-any.whl.metadata (8.6 kB)\n",
            "Requirement already satisfied: annotated-types>=0.6.0 in /usr/local/lib/python3.10/dist-packages (from pydantic>=2.5.0->qiskit-ibm-runtime) (0.7.0)\n",
            "Requirement already satisfied: pydantic-core==2.23.4 in /usr/local/lib/python3.10/dist-packages (from pydantic>=2.5.0->qiskit-ibm-runtime) (2.23.4)\n",
            "Requirement already satisfied: typing-extensions>=4.6.1 in /usr/local/lib/python3.10/dist-packages (from pydantic>=2.5.0->qiskit-ibm-runtime) (4.12.2)\n",
            "Requirement already satisfied: six>=1.5 in /usr/local/lib/python3.10/dist-packages (from python-dateutil>=2.8.0->qiskit-ibm-runtime) (1.16.0)\n",
            "Requirement already satisfied: rustworkx>=0.15.0 in /usr/local/lib/python3.10/dist-packages (from qiskit>=1.1.0->qiskit-ibm-runtime) (0.15.1)\n",
            "Requirement already satisfied: scipy>=1.5 in /usr/local/lib/python3.10/dist-packages (from qiskit>=1.1.0->qiskit-ibm-runtime) (1.13.1)\n",
            "Requirement already satisfied: sympy>=1.3 in /usr/local/lib/python3.10/dist-packages (from qiskit>=1.1.0->qiskit-ibm-runtime) (1.13.1)\n",
            "Requirement already satisfied: dill>=0.3 in /usr/local/lib/python3.10/dist-packages (from qiskit>=1.1.0->qiskit-ibm-runtime) (0.3.9)\n",
            "Requirement already satisfied: stevedore>=3.0.0 in /usr/local/lib/python3.10/dist-packages (from qiskit>=1.1.0->qiskit-ibm-runtime) (5.3.0)\n",
            "Requirement already satisfied: symengine<0.14,>=0.11 in /usr/local/lib/python3.10/dist-packages (from qiskit>=1.1.0->qiskit-ibm-runtime) (0.13.0)\n",
            "Requirement already satisfied: charset-normalizer<4,>=2 in /usr/local/lib/python3.10/dist-packages (from requests>=2.19->qiskit-ibm-runtime) (3.4.0)\n",
            "Requirement already satisfied: idna<4,>=2.5 in /usr/local/lib/python3.10/dist-packages (from requests>=2.19->qiskit-ibm-runtime) (3.10)\n",
            "Requirement already satisfied: certifi>=2017.4.17 in /usr/local/lib/python3.10/dist-packages (from requests>=2.19->qiskit-ibm-runtime) (2024.8.30)\n",
            "Requirement already satisfied: cryptography>=1.3 in /usr/local/lib/python3.10/dist-packages (from requests-ntlm>=1.1.0->qiskit-ibm-runtime) (43.0.3)\n",
            "Collecting pyspnego>=0.4.0 (from requests-ntlm>=1.1.0->qiskit-ibm-runtime)\n",
            "  Downloading pyspnego-0.11.2-py3-none-any.whl.metadata (5.4 kB)\n",
            "Requirement already satisfied: cffi>=1.12 in /usr/local/lib/python3.10/dist-packages (from cryptography>=1.3->requests-ntlm>=1.1.0->qiskit-ibm-runtime) (1.17.1)\n",
            "Requirement already satisfied: PyJWT<3.0.0,>=2.8.0 in /usr/local/lib/python3.10/dist-packages (from ibm-cloud-sdk-core<4.0.0,>=3.22.0->ibm-platform-services>=0.22.6->qiskit-ibm-runtime) (2.9.0)\n",
            "Requirement already satisfied: pbr>=2.0.0 in /usr/local/lib/python3.10/dist-packages (from stevedore>=3.0.0->qiskit>=1.1.0->qiskit-ibm-runtime) (6.1.0)\n",
            "Requirement already satisfied: mpmath<1.4,>=1.1.0 in /usr/local/lib/python3.10/dist-packages (from sympy>=1.3->qiskit>=1.1.0->qiskit-ibm-runtime) (1.3.0)\n",
            "Requirement already satisfied: pycparser in /usr/local/lib/python3.10/dist-packages (from cffi>=1.12->cryptography>=1.3->requests-ntlm>=1.1.0->qiskit-ibm-runtime) (2.22)\n",
            "Downloading qiskit_ibm_runtime-0.33.2-py3-none-any.whl (2.9 MB)\n",
            "\u001b[2K   \u001b[90m━━━━━━━━━━━━━━━━━━━━━━━━━━━━━━━━━━━━━━━━\u001b[0m \u001b[32m2.9/2.9 MB\u001b[0m \u001b[31m53.3 MB/s\u001b[0m eta \u001b[36m0:00:00\u001b[0m\n",
            "\u001b[?25hDownloading ibm_platform_services-0.59.0-py3-none-any.whl (340 kB)\n",
            "\u001b[2K   \u001b[90m━━━━━━━━━━━━━━━━━━━━━━━━━━━━━━━━━━━━━━━━\u001b[0m \u001b[32m340.8/340.8 kB\u001b[0m \u001b[31m19.2 MB/s\u001b[0m eta \u001b[36m0:00:00\u001b[0m\n",
            "\u001b[?25hDownloading requests_ntlm-1.3.0-py3-none-any.whl (6.6 kB)\n",
            "Downloading ibm_cloud_sdk_core-3.22.0-py3-none-any.whl (69 kB)\n",
            "\u001b[2K   \u001b[90m━━━━━━━━━━━━━━━━━━━━━━━━━━━━━━━━━━━━━━━━\u001b[0m \u001b[32m69.4/69.4 kB\u001b[0m \u001b[31m4.8 MB/s\u001b[0m eta \u001b[36m0:00:00\u001b[0m\n",
            "\u001b[?25hDownloading pyspnego-0.11.2-py3-none-any.whl (130 kB)\n",
            "\u001b[2K   \u001b[90m━━━━━━━━━━━━━━━━━━━━━━━━━━━━━━━━━━━━━━━━\u001b[0m \u001b[32m130.5/130.5 kB\u001b[0m \u001b[31m9.6 MB/s\u001b[0m eta \u001b[36m0:00:00\u001b[0m\n",
            "\u001b[?25hInstalling collected packages: ibm-cloud-sdk-core, pyspnego, ibm-platform-services, requests-ntlm, qiskit-ibm-runtime\n",
            "Successfully installed ibm-cloud-sdk-core-3.22.0 ibm-platform-services-0.59.0 pyspnego-0.11.2 qiskit-ibm-runtime-0.33.2 requests-ntlm-1.3.0\n"
          ]
        }
      ],
      "source": [
        "!pip install qiskit\n",
        "!pip install qiskit-Aer\n",
        "!pip install qiskit_algorithms\n",
        "!pip install qiskit_nature\n",
        "!pip install matplotlib\n",
        "!pip install pylatexenc\n",
        "!pip install qiskit-ibm-runtime"
      ]
    },
    {
      "cell_type": "markdown",
      "id": "c8bf3f5f-1218-4890-8885-255d36cfdb0a",
      "metadata": {
        "id": "c8bf3f5f-1218-4890-8885-255d36cfdb0a"
      },
      "source": [
        "# Quantum Real Time Evolution using Trotterization"
      ]
    },
    {
      "cell_type": "markdown",
      "id": "f52a038f-f875-48f2-8345-039933a1fa69",
      "metadata": {
        "id": "f52a038f-f875-48f2-8345-039933a1fa69"
      },
      "source": [
        "As a real time evolution technique, the Trotterization or Trotterized Real Time Evolution (RTE) consists in the successive application of a quantum gate, assumed to approximate the time evolution of a system for a time slice [1]. Following from the Schrödinger equation, the time evolution of a system initially in the state $\\vert\\psi(0)\\rangle$ takes the form:\n",
        "\n",
        "$$\n",
        "\\vert \\psi(t) \\rangle = e^{-i H t} \\vert \\psi(0) \\rangle \\text{,}\n",
        "$$\n",
        "\n",
        "where $H$ is the time-independent Hamiltonian under which the system is submitted. We consider a Hamiltonian that can be written as a weighted sum of Pauli terms $H=\\sum_j a_j H_j$, with $h_j$ representing a tensor product of Pauli terms acting on $n$ qubits. Thus, the sequence of gates that approximate a single evolution step is found under the assumption that the product of matrix exponentials is a good approximation for the sum of matrix exponentials:\n",
        "\n",
        "$$\n",
        "\\vert \\psi(t) \\rangle \\approx \\left(\\prod_j e^{-i a_j H_j t/r} \\right)^r \\vert\\psi(0) \\rangle \\text{,}\n",
        "$$\n",
        "\n",
        "where $t/r$ is the time slice (evolution step) that we are choosing. As a result, a gate to be applied $r$ times is created. A smaller timestep leads to a more accurate approximation. However, this also leads to deeper circuits which, in practice, leads to more error accumulation, becoming a critical aspect especially on NISQ devices. For the purposes of this tutorial, all simulations are Statevector simulator, which doesn't include any shot or hardware noise.\n",
        "\n",
        "In this tutorial, we will implement real time evolutions using the `TrotterQRTE` class. To illustrate this, we will study the time evolution of the [Ising model](https://en.wikipedia.org/wiki/Ising_model) on linear lattices of $L=2$ and $L=6$ sites. These lattices consist of an array of spins $\\sigma_i$ that interact only with their nearest neighbors. These spins can have two orientations: $\\uparrow$ and $\\downarrow$, which correspond to a magnetization of $+1$ and $-1$ respectively.\n",
        "\n",
        "$$\n",
        "H = - J \\sum_{i=0}^{L-2} \\sigma_i \\sigma_{i+1} - h \\sum_{i=0}^{L-1} \\sigma_i  \\text{,}\n",
        "$$\n",
        "\n",
        "where $J$ describes the interaction energy, and $h$ the magnitude of an external field. Let us write this expression using Pauli matrices, and considering that the external field has an angle $\\alpha$ with respect to the transversal direction,\n",
        "\n",
        "$$\n",
        "H = -J \\sum_{i=0}^{L-2} Z_i Z_{i+1} -h \\sum_{i=0}^{L-1} (\\sin\\alpha Z_i + \\cos\\alpha X_i) \\text{.}\n",
        "$$\n",
        "\n",
        "In the computational basis, the system will be encoded as follows:\n",
        "\n",
        "| Quantum state            | Spin representation                        |\n",
        "|:------------------------:|:------------------------------------------:|\n",
        "| $\\lvert 0 0 0 0 \\rangle$ | $\\uparrow\\uparrow\\uparrow\\uparrow$         |\n",
        "| $\\lvert 1 0 0 0 \\rangle$ | $\\downarrow\\uparrow\\uparrow\\uparrow$       |\n",
        "| $\\ldots$                 | $\\ldots$                                   |\n",
        "| $\\lvert 1 1 1 1 \\rangle$ | $\\downarrow\\downarrow\\downarrow\\downarrow$ |\n",
        "\n",
        "First, we will create a function that takes in the system parameters $L$, $J$, $h$ and $\\alpha$, and returns our Hamiltonian as a `SparsePauliOp`. A [SparsePauliOp](https://docs.quantum.ibm.com/api/qiskit/qiskit.quantum_info.SparsePauliOp) is a sparse representation of an operator in terms of weighted [Pauli](https://docs.quantum.ibm.com/api/qiskit/qiskit.quantum_info.Pauli) terms."
      ]
    },
    {
      "cell_type": "code",
      "execution_count": 2,
      "id": "f8978fad-2734-4d62-8de3-8acfdf6549cc",
      "metadata": {
        "id": "f8978fad-2734-4d62-8de3-8acfdf6549cc"
      },
      "outputs": [],
      "source": [
        "from qiskit.quantum_info import SparsePauliOp\n",
        "from math import sin, cos\n",
        "\n",
        "\n",
        "def get_hamiltonian(L, J, h, alpha=0):\n",
        "\n",
        "    # List of Hamiltonian terms as 3-tuples containing\n",
        "    # (1) the Pauli string,\n",
        "    # (2) the qubit indices corresponding to the Pauli string,\n",
        "    # (3) the coefficient.\n",
        "    ZZ_tuples = [(\"ZZ\", [i, i + 1], -J) for i in range(0, L - 1)]\n",
        "    Z_tuples = [(\"Z\", [i], -h * sin(alpha)) for i in range(0, L)]\n",
        "    X_tuples = [(\"X\", [i], -h * cos(alpha)) for i in range(0, L)]\n",
        "\n",
        "    # We create the Hamiltonian as a SparsePauliOp, via the method\n",
        "    # `from_sparse_list`, and multiply by the interaction term.\n",
        "    hamiltonian = SparsePauliOp.from_sparse_list([*ZZ_tuples, *Z_tuples, *X_tuples], num_qubits=L)\n",
        "    return hamiltonian.simplify()"
      ]
    },
    {
      "cell_type": "markdown",
      "id": "c2cc25ca-a774-4b83-b1ad-28265caa06c8",
      "metadata": {
        "id": "c2cc25ca-a774-4b83-b1ad-28265caa06c8"
      },
      "source": [
        "Let us get started, and create a Hamiltonian as an operator for $L=2$, and a choice of $J=0.2$, $h=1$ and $\\alpha=\\pi/8$:"
      ]
    },
    {
      "cell_type": "code",
      "execution_count": 3,
      "id": "8c8377c1-85e7-43da-ba29-4291ff58b66a",
      "metadata": {
        "colab": {
          "base_uri": "https://localhost:8080/"
        },
        "id": "8c8377c1-85e7-43da-ba29-4291ff58b66a",
        "outputId": "ab6bc290-6008-41bc-ccbb-9355e50af364"
      },
      "outputs": [
        {
          "output_type": "execute_result",
          "data": {
            "text/plain": [
              "SparsePauliOp(['ZZ', 'IZ', 'ZI', 'IX', 'XI'],\n",
              "              coeffs=[-0.2       +0.j, -0.38268343+0.j, -0.38268343+0.j, -0.92387953+0.j,\n",
              " -0.92387953+0.j])"
            ]
          },
          "metadata": {},
          "execution_count": 3
        }
      ],
      "source": [
        "from math import pi\n",
        "\n",
        "H = get_hamiltonian(L=2, J=0.2, h=1.0, alpha=pi / 8)\n",
        "H"
      ]
    },
    {
      "cell_type": "markdown",
      "id": "4fa41ff7",
      "metadata": {
        "id": "4fa41ff7"
      },
      "source": [
        "Let us create an instance of `TimeEvolutionProblem`. Conceptually, it contains all the information relevant on the physical problem. In our case, we will pass it the our Hamiltonian, an initial state, a final time. As initial state, we will take a spin up and a spin down."
      ]
    },
    {
      "cell_type": "code",
      "execution_count": 4,
      "id": "e9730206",
      "metadata": {
        "id": "e9730206"
      },
      "outputs": [],
      "source": [
        "from qiskit.quantum_info import Statevector\n",
        "from qiskit_algorithms import TimeEvolutionProblem\n",
        "\n",
        "final_time = 1.6\n",
        "\n",
        "# First spin up, second spin down\n",
        "# (remember that the labels are interpreted from right to left)\n",
        "initial_state = Statevector.from_label(\"10\")\n",
        "\n",
        "problem = TimeEvolutionProblem(H, initial_state=initial_state, time=final_time)"
      ]
    },
    {
      "cell_type": "markdown",
      "id": "b1127eec",
      "metadata": {
        "id": "b1127eec"
      },
      "source": [
        "We can now create an instance of `TrotterQRTE`. Conceptually, it contains the information relevant to solve a physical problem, which does by means of the method `evolve`."
      ]
    },
    {
      "cell_type": "code",
      "execution_count": 5,
      "id": "46a9da20-f067-4cc0-9ddf-15a9652e9224",
      "metadata": {
        "id": "46a9da20-f067-4cc0-9ddf-15a9652e9224"
      },
      "outputs": [],
      "source": [
        "from qiskit_algorithms import TrotterQRTE\n",
        "\n",
        "trotter = TrotterQRTE()\n",
        "result = trotter.evolve(problem)"
      ]
    },
    {
      "cell_type": "markdown",
      "id": "b55c625e-3144-40f2-9eea-2b8cfad51381",
      "metadata": {
        "id": "b55c625e-3144-40f2-9eea-2b8cfad51381"
      },
      "source": [
        "Our evolved state is in the result's attribute `evolved_state`, which is a `QuantumCircuit`,"
      ]
    },
    {
      "cell_type": "code",
      "execution_count": 6,
      "id": "4759ec1b-2444-4cf7-8eef-e2e1f8bb332f",
      "metadata": {
        "colab": {
          "base_uri": "https://localhost:8080/",
          "height": 191
        },
        "id": "4759ec1b-2444-4cf7-8eef-e2e1f8bb332f",
        "outputId": "bfde5f24-5e5a-4709-d4c9-a58c51dbcbef"
      },
      "outputs": [
        {
          "output_type": "execute_result",
          "data": {
            "text/plain": [
              "<Figure size 788.961x200.667 with 1 Axes>"
            ],
            "image/png": "[encoded data removed]"
          },
          "metadata": {},
          "execution_count": 6
        }
      ],
      "source": [
        "result.evolved_state.draw(\"mpl\")"
      ]
    },
    {
      "cell_type": "markdown",
      "id": "6b207d17-7633-40b6-b70e-3788966c4fb8",
      "metadata": {
        "id": "6b207d17-7633-40b6-b70e-3788966c4fb8"
      },
      "source": [
        "By sequentially decomposing the circuit, we can show it in terms of Qiskit's [Circuit Library](https://docs.quantum.ibm.com/api/qiskit/circuit_library) standard gates."
      ]
    },
    {
      "cell_type": "code",
      "execution_count": 7,
      "id": "a434781a-67be-41e9-b0df-c3c7e17d39b8",
      "metadata": {
        "colab": {
          "base_uri": "https://localhost:8080/",
          "height": 202
        },
        "id": "a434781a-67be-41e9-b0df-c3c7e17d39b8",
        "outputId": "6f290edf-b778-4e56-9d47-c15aae90af28"
      },
      "outputs": [
        {
          "output_type": "execute_result",
          "data": {
            "text/plain": [
              "<Figure size 956.183x200.667 with 1 Axes>"
            ],
            "image/png": "[encoded data removed]"
          },
          "metadata": {},
          "execution_count": 7
        }
      ],
      "source": [
        "result.evolved_state.decompose(reps=2).decompose(\"disentangler_dg\").decompose(\n",
        "    \"multiplex1_reverse_dg\"\n",
        ").draw(\"mpl\")"
      ]
    },
    {
      "cell_type": "markdown",
      "id": "a628e73b-b96e-44e1-8a25-4f43bf2ccb27",
      "metadata": {
        "id": "a628e73b-b96e-44e1-8a25-4f43bf2ccb27"
      },
      "source": [
        "The evolved state, like all `QuantumCircuit`s, can be turned into a `Statevector`."
      ]
    },
    {
      "cell_type": "code",
      "execution_count": 8,
      "id": "e338fd96-ff0d-4473-8ac1-3e8edb472f61",
      "metadata": {
        "colab": {
          "base_uri": "https://localhost:8080/"
        },
        "id": "e338fd96-ff0d-4473-8ac1-3e8edb472f61",
        "outputId": "088e0f17-4aec-4504-aa7d-4647f57a09b3"
      },
      "outputs": [
        {
          "output_type": "stream",
          "name": "stdout",
          "text": [
            "Statevector([ 0.02895926+0.08738739j, -0.9411211 +0.31187756j,\n",
            "              0.00811432-0.002689j  ,  0.02895926+0.08738739j],\n",
            "            dims=(2, 2))\n"
          ]
        }
      ],
      "source": [
        "statevector = Statevector(result.evolved_state)\n",
        "print(statevector)"
      ]
    },
    {
      "cell_type": "markdown",
      "id": "392f6fa4-64a6-4d9a-b845-7e902521b988",
      "metadata": {
        "id": "392f6fa4-64a6-4d9a-b845-7e902521b988"
      },
      "source": [
        "Let us find out the effect of the field direction after a certain a certain time $t=1.6$. Note that the units of time are the inverse of the units of the Hamiltonian. For the purposes of this tutorial we leave all units dimensionless."
      ]
    },
    {
      "cell_type": "code",
      "execution_count": 9,
      "id": "9adc5a51-e976-4b9b-9d19-8b3002cef4e1",
      "metadata": {
        "colab": {
          "base_uri": "https://localhost:8080/",
          "height": 514
        },
        "id": "9adc5a51-e976-4b9b-9d19-8b3002cef4e1",
        "outputId": "eb716988-8fba-4e93-d6ed-cc47e0334ce1"
      },
      "outputs": [
        {
          "output_type": "execute_result",
          "data": {
            "text/plain": [
              "<matplotlib.legend.Legend at 0x7f70af88ac80>"
            ]
          },
          "metadata": {},
          "execution_count": 9
        },
        {
          "output_type": "display_data",
          "data": {
            "text/plain": [
              "<Figure size 640x480 with 1 Axes>"
            ],
            "image/png": "[encoded data removed]"
          },
          "metadata": {}
        }
      ],
      "source": [
        "import numpy as np\n",
        "import matplotlib.pyplot as plt\n",
        "\n",
        "bar_width = 0.1\n",
        "# We prepare an initial state ↑↓ (01).\n",
        "# Note that Statevector and SparsePauliOp interpret the qubits from right to left\n",
        "initial_state = Statevector.from_label(\"10\")\n",
        "trotter = TrotterQRTE()\n",
        "final_time = 1.6\n",
        "eps = 1e-5\n",
        "\n",
        "# We create the list of angles in radians, with a small epsilon\n",
        "# the exactly longitudinal field, which would present no dynamics at all\n",
        "alphas = np.linspace(-np.pi / 2 + eps, np.pi / 2 - eps, 5)\n",
        "\n",
        "for i, alpha in enumerate(alphas):\n",
        "    H_alpha = get_hamiltonian(L=2, J=0.2, h=1.0, alpha=alpha)\n",
        "    problem = TimeEvolutionProblem(H_alpha, initial_state=initial_state, time=1.6)\n",
        "    result = trotter.evolve(problem)\n",
        "    evolved_state = Statevector(result.evolved_state)\n",
        "    # Dictionary of probabilities\n",
        "    amplitudes_dict = evolved_state.probabilities_dict()\n",
        "    labels = list(amplitudes_dict.keys())\n",
        "    values = list(amplitudes_dict.values())\n",
        "    # Convert angle to degrees\n",
        "    alpha_str = f\"$\\\\alpha={int(np.round(alpha * 180 / pi))}^\\\\circ$\"\n",
        "    plt.bar(np.arange(4) + i * bar_width, values, bar_width, label=alpha_str, alpha=0.7)\n",
        "\n",
        "plt.xticks(np.arange(4) + 2 * bar_width, labels)\n",
        "plt.xlabel(\"Measurement\")\n",
        "plt.ylabel(\"Probability\")\n",
        "plt.suptitle(\n",
        "    f\"Measurement probabilities at $t={final_time}$, for various field angles $\\\\alpha$\\n\"\n",
        "    f\"Initial state: 10, Linear lattice of size $L=2$\"\n",
        ")\n",
        "plt.legend()"
      ]
    },
    {
      "cell_type": "markdown",
      "id": "7495e1d1-b5d5-402f-9854-10ea06a20eb3",
      "metadata": {
        "id": "7495e1d1-b5d5-402f-9854-10ea06a20eb3"
      },
      "source": [
        "We have prepared a system initially with a sequence of spins $\\uparrow\\downarrow$, which corresponds to $\\vert\\psi(0)\\rangle = \\vert01\\rangle$. After letting it evolve for $t=1.6$ under a transversal field ($\\alpha=0^\\circ$), we are almost guaranteed to measure $\\downarrow\\uparrow$, i.e. have a spin swap. (Note that the labels are interpreted from right to left). If the field is longitudinal ($\\alpha=\\pm90^\\circ$), we will have no evolution, therefore we will measure the system as it was initially prepared, $\\uparrow\\downarrow$. With intermediate angles, at $\\alpha=\\pm45^\\circ$, we will be able to measure all combinations will different probabilities, being a spin swap the most likely with a probability of 67%."
      ]
    },
    {
      "cell_type": "markdown",
      "id": "916b2d7d-508a-4943-9a0d-7c56a3a1e32b",
      "metadata": {
        "id": "916b2d7d-508a-4943-9a0d-7c56a3a1e32b"
      },
      "source": [
        "### Auxiliary operators"
      ]
    },
    {
      "cell_type": "markdown",
      "id": "35842d79-e23b-4a09-bfce-7e01984ec8f6",
      "metadata": {
        "id": "35842d79-e23b-4a09-bfce-7e01984ec8f6"
      },
      "source": [
        "Let us look into another feature of `TrotterQRTE`. We will now explore its ability to perform time evolutions of a system, while keeping track of some observables. The system that we now consider has a size of $L=6$."
      ]
    },
    {
      "cell_type": "code",
      "execution_count": 10,
      "id": "f771ffe3-66a6-425e-ad61-1a483888c67a",
      "metadata": {
        "id": "f771ffe3-66a6-425e-ad61-1a483888c67a"
      },
      "outputs": [],
      "source": [
        "from math import pi\n",
        "\n",
        "L = 6\n",
        "H = get_hamiltonian(L=L, J=0.2, h=1.2, alpha=pi / 8)"
      ]
    },
    {
      "cell_type": "markdown",
      "id": "e22d0f96-cb0b-479f-b2ff-2b988d0bcf48",
      "metadata": {
        "id": "e22d0f96-cb0b-479f-b2ff-2b988d0bcf48"
      },
      "source": [
        "The `TrotterQRTE` instance now will be created with a `num_timesteps` argument, and an `Estimator` primitive. The Qiskit's `Estimator` primitive estimates expectation values of observables, $\\langle\\psi\\vert\\hat{O}\\vert\\psi\\rangle$."
      ]
    },
    {
      "cell_type": "code",
      "execution_count": 11,
      "id": "5fa5bbd8-21a7-41ba-b79b-9b63717dc15d",
      "metadata": {
        "colab": {
          "base_uri": "https://localhost:8080/"
        },
        "id": "5fa5bbd8-21a7-41ba-b79b-9b63717dc15d",
        "outputId": "b6865378-10c2-4933-eee7-5fb39a76923f"
      },
      "outputs": [
        {
          "output_type": "stream",
          "name": "stderr",
          "text": [
            "<ipython-input-11-1ac1fa59876a>:5: DeprecationWarning: The class ``qiskit.primitives.estimator.Estimator`` is deprecated as of qiskit 1.2. It will be removed no earlier than 3 months after the release date. All implementations of the `BaseEstimatorV1` interface have been deprecated in favor of their V2 counterparts. The V2 alternative for the `Estimator` class is `StatevectorEstimator`.\n",
            "  trotter = TrotterQRTE(num_timesteps=num_timesteps, estimator=Estimator())\n"
          ]
        }
      ],
      "source": [
        "from qiskit_algorithms import TrotterQRTE\n",
        "from qiskit.primitives import Estimator\n",
        "\n",
        "num_timesteps = 60\n",
        "trotter = TrotterQRTE(num_timesteps=num_timesteps, estimator=Estimator())"
      ]
    },
    {
      "cell_type": "markdown",
      "id": "8cc5320f-1ce0-4321-8cf7-4b3131b038de",
      "metadata": {
        "id": "8cc5320f-1ce0-4321-8cf7-4b3131b038de"
      },
      "source": [
        "Let us define a *magnetization operator* $\\sum_i Z_i$, and a *mean spin correlation operator* $\\sum_i Z_i Z_{i+1} / (L - 1)$."
      ]
    },
    {
      "cell_type": "code",
      "execution_count": 12,
      "id": "196364a5-3bca-454d-ab50-38f74d3a305d",
      "metadata": {
        "id": "196364a5-3bca-454d-ab50-38f74d3a305d"
      },
      "outputs": [],
      "source": [
        "magnetization_op = SparsePauliOp.from_sparse_list(\n",
        "    [(\"Z\", [i], 1.0) for i in range(0, L)], num_qubits=L\n",
        ")\n",
        "correlation_op = SparsePauliOp.from_sparse_list(\n",
        "    [(\"ZZ\", [i, i + 1], 1.0) for i in range(0, L - 1)], num_qubits=L\n",
        ") / (L - 1)"
      ]
    },
    {
      "cell_type": "markdown",
      "id": "129f289e-c694-4eb1-8842-1248578a731f",
      "metadata": {
        "id": "129f289e-c694-4eb1-8842-1248578a731f"
      },
      "source": [
        "Our new initial state will have the two middle spins facing down, and the `TimeEvolutionProblem` will incorporate some observables that will be kept track of:\n",
        "1. the energy, i.e. the expectation value of the Hamiltonian, $\\langle H\\rangle$\n",
        "2. the magnetization, $\\langle \\sum_i Z_i \\rangle$\n",
        "3. the mean spin correlation, $\\langle\\sum_i Z_i Z_{i+1}\\rangle/(L-1)$"
      ]
    },
    {
      "cell_type": "code",
      "execution_count": 13,
      "id": "147f30af-ebd3-41ef-88fc-256d01e1ff3d",
      "metadata": {
        "id": "147f30af-ebd3-41ef-88fc-256d01e1ff3d"
      },
      "outputs": [],
      "source": [
        "final_time = 30.0\n",
        "initial_state = Statevector.from_label(\"001100\")\n",
        "problem = TimeEvolutionProblem(\n",
        "    H,\n",
        "    initial_state=initial_state,\n",
        "    time=final_time,\n",
        "    aux_operators=[H, magnetization_op, correlation_op],\n",
        ")"
      ]
    },
    {
      "cell_type": "markdown",
      "id": "70a62b59-658b-4964-93e5-eaea21d6958e",
      "metadata": {
        "id": "70a62b59-658b-4964-93e5-eaea21d6958e"
      },
      "source": [
        "Again, we let our `TrotterQRTE` evolve our newly created problem instance."
      ]
    },
    {
      "cell_type": "code",
      "execution_count": 14,
      "id": "43e41a25-881b-4765-b933-0de40e57e139",
      "metadata": {
        "id": "43e41a25-881b-4765-b933-0de40e57e139"
      },
      "outputs": [],
      "source": [
        "result = trotter.evolve(problem)"
      ]
    },
    {
      "cell_type": "markdown",
      "id": "b1dfabb2-76a7-4b12-b125-018af2655e96",
      "metadata": {
        "id": "b1dfabb2-76a7-4b12-b125-018af2655e96"
      },
      "source": [
        "The new result also features an `observables` attribute. Let's extract the observables stored in it."
      ]
    },
    {
      "cell_type": "code",
      "execution_count": 15,
      "id": "25d7df68-89a1-4d63-92ad-e80def7b5330",
      "metadata": {
        "colab": {
          "base_uri": "https://localhost:8080/"
        },
        "id": "25d7df68-89a1-4d63-92ad-e80def7b5330",
        "outputId": "1056b229-7dde-41c9-b388-a056057a33c9"
      },
      "outputs": [
        {
          "output_type": "execute_result",
          "data": {
            "text/plain": [
              "(61, 3)"
            ]
          },
          "metadata": {},
          "execution_count": 15
        }
      ],
      "source": [
        "import numpy as np\n",
        "\n",
        "observables = np.array(np.array(result.observables)[:, :, 0])\n",
        "observables.shape"
      ]
    },
    {
      "cell_type": "code",
      "execution_count": 16,
      "id": "b23392e1-6c14-4179-aeb6-392c829f5282",
      "metadata": {
        "colab": {
          "base_uri": "https://localhost:8080/",
          "height": 514
        },
        "id": "b23392e1-6c14-4179-aeb6-392c829f5282",
        "outputId": "7a55287d-8f65-41a5-9218-a3575b0c97ab"
      },
      "outputs": [
        {
          "output_type": "execute_result",
          "data": {
            "text/plain": [
              "Text(0.5, 0.98, 'Observable evolution')"
            ]
          },
          "metadata": {},
          "execution_count": 16
        },
        {
          "output_type": "display_data",
          "data": {
            "text/plain": [
              "<Figure size 640x480 with 3 Axes>"
            ],
            "image/png": "[encoded data removed]"
          },
          "metadata": {}
        }
      ],
      "source": [
        "import matplotlib.pyplot as plt\n",
        "\n",
        "fig, axes = plt.subplots(3, sharex=True)\n",
        "times = np.linspace(0, final_time, num_timesteps + 1)  # includes initial state\n",
        "axes[0].plot(\n",
        "    times, observables[:, 0], label=\"First order\", marker=\"x\", c=\"darkmagenta\", ls=\"-\", lw=0.8\n",
        ")\n",
        "axes[1].plot(\n",
        "    times, observables[:, 1], label=\"First order\", marker=\"x\", c=\"darkmagenta\", ls=\"-\", lw=0.8\n",
        ")\n",
        "axes[2].plot(\n",
        "    times, observables[:, 2], label=\"First order\", marker=\"x\", c=\"darkmagenta\", ls=\"-\", lw=0.8\n",
        ")\n",
        "axes[0].set_ylabel(\"Energy\")\n",
        "axes[1].set_ylabel(\"Magnetization\")\n",
        "axes[2].set_ylabel(\"Mean spin correlation\")\n",
        "axes[2].set_xlabel(\"Time\")\n",
        "fig.suptitle(\"Observable evolution\")"
      ]
    },
    {
      "cell_type": "markdown",
      "id": "063a380f-be6e-4664-849b-55dff23153b6",
      "metadata": {
        "id": "063a380f-be6e-4664-849b-55dff23153b6"
      },
      "source": [
        "Let us verify these results by comparing these expected values using Trotter evolution with the exact ones. To that end, we evaluate directly the expression discussed in the introduction,\n",
        "\n",
        "$$\n",
        "\\vert \\psi(t) \\rangle = e^{-i H t} \\vert \\psi(0) \\rangle \\text{,}\n",
        "$$\n",
        "\n",
        "on each one of the timesteps used by Trotter. We compute this exponential using SciPy's [linalg.expm](https://docs.scipy.org/doc/scipy/reference/generated/scipy.linalg.expm.html) function, and then we let the initial system evolve using the `Statevector`'s [evolve](https://docs.quantum.ibm.com/api/qiskit/qiskit.quantum_info.Statevector#evolve) method. This becomes too costly to be performed on larger systems very quickly."
      ]
    },
    {
      "cell_type": "code",
      "execution_count": 17,
      "id": "3ccb7f8b-fe5f-4405-abd4-8cb0cd919916",
      "metadata": {
        "id": "3ccb7f8b-fe5f-4405-abd4-8cb0cd919916"
      },
      "outputs": [],
      "source": [
        "import scipy as sc\n",
        "\n",
        "H_array = H.to_matrix()\n",
        "\n",
        "# We define a slightly denser time mesh\n",
        "exact_times = np.linspace(0, final_time, 101)\n",
        "\n",
        "# We compute the exact evolution using the exp\n",
        "exact_evolution = [\n",
        "    initial_state.evolve(sc.linalg.expm(-1j * time * H_array)) for time in exact_times\n",
        "]"
      ]
    },
    {
      "cell_type": "markdown",
      "id": "20da64a4-9211-44a9-9d1e-6b42ca87692c",
      "metadata": {
        "id": "20da64a4-9211-44a9-9d1e-6b42ca87692c"
      },
      "source": [
        "Having the exact state vectors, we compute the exact evolution of our operators' expectation values."
      ]
    },
    {
      "cell_type": "code",
      "execution_count": 18,
      "id": "f3d29f74-55ea-4261-802a-a8346cbc231d",
      "metadata": {
        "id": "f3d29f74-55ea-4261-802a-a8346cbc231d"
      },
      "outputs": [],
      "source": [
        "exact_energy = np.real([sv.expectation_value(H) for sv in exact_evolution])\n",
        "exact_magnetization = np.real([sv.expectation_value(magnetization_op) for sv in exact_evolution])\n",
        "exact_correlation = np.real([sv.expectation_value(correlation_op) for sv in exact_evolution])"
      ]
    },
    {
      "cell_type": "markdown",
      "id": "6e3eea26-539e-4749-8dec-e8e3cc378830",
      "metadata": {
        "id": "6e3eea26-539e-4749-8dec-e8e3cc378830"
      },
      "source": [
        "We incorporate the exact evolution of the operators alongside the expected values resulting from the Trotterization."
      ]
    },
    {
      "cell_type": "code",
      "execution_count": 19,
      "id": "386e3a68-ea28-499a-a5f9-797896ba3a9f",
      "metadata": {
        "colab": {
          "base_uri": "https://localhost:8080/",
          "height": 492
        },
        "id": "386e3a68-ea28-499a-a5f9-797896ba3a9f",
        "outputId": "d6d56632-ec3e-4b35-8a33-291e9e432f25"
      },
      "outputs": [
        {
          "output_type": "execute_result",
          "data": {
            "text/plain": [
              "<Figure size 640x480 with 3 Axes>"
            ],
            "image/png": "[encoded data removed]"
          },
          "metadata": {},
          "execution_count": 19
        }
      ],
      "source": [
        "axes[0].plot(exact_times, exact_energy, c=\"k\", ls=\":\", label=\"Exact\")\n",
        "axes[1].plot(exact_times, exact_magnetization, c=\"k\", ls=\":\", label=\"Exact\")\n",
        "axes[2].plot(exact_times, exact_correlation, c=\"k\", ls=\":\", label=\"Exact\")\n",
        "# Select the labels of only the first axis\n",
        "legend = fig.legend(\n",
        "    *axes[0].get_legend_handles_labels(),\n",
        "    bbox_to_anchor=(1.0, 0.5),\n",
        "    loc=\"center left\",\n",
        "    framealpha=0.5,\n",
        ")\n",
        "fig.tight_layout()\n",
        "fig"
      ]
    },
    {
      "cell_type": "markdown",
      "id": "0550c4c6-9744-4ab3-a2f4-dda166c29855",
      "metadata": {
        "id": "0550c4c6-9744-4ab3-a2f4-dda166c29855"
      },
      "source": [
        "We see that, as an approximation, a Pauli-Trotter evolution isn't too far from the exact solution, but the accuracy is limited. Let's see how to find higher order formulas to address this."
      ]
    },
    {
      "cell_type": "markdown",
      "id": "cf51369f-409e-4108-945e-cc985ec46974",
      "metadata": {
        "id": "cf51369f-409e-4108-945e-cc985ec46974"
      },
      "source": [
        "### Product formula overview\n",
        "\n",
        "If it isn't specified, the default product formula that `TrotterQRTE` uses is the Lie product formula [2], which is at first order. In Qiskit this is implemented in the [LieTrotter](https://docs.quantum.ibm.com/api/qiskit/qiskit.synthesis.LieTrotter) class. A first order formula consists of the approximation stated in the introduction, where the matrix exponential of a sum is approximated by a product of matrix exponentials:\n",
        "\n",
        "$$\n",
        "e^{A+B} \\approx e^A e^B\n",
        "$$"
      ]
    },
    {
      "cell_type": "markdown",
      "id": "40d87353-3e42-48cc-a193-0b4d8f1421c1",
      "metadata": {
        "id": "40d87353-3e42-48cc-a193-0b4d8f1421c1"
      },
      "source": [
        "Knowing this, we can have a look at the circuit that performs a single Trotter step."
      ]
    },
    {
      "cell_type": "code",
      "execution_count": 20,
      "id": "ee8f1ba9-3c5d-41fe-9f93-1fe735216dd9",
      "metadata": {
        "colab": {
          "base_uri": "https://localhost:8080/",
          "height": 616
        },
        "id": "ee8f1ba9-3c5d-41fe-9f93-1fe735216dd9",
        "outputId": "2b1b4e94-88aa-4984-a6a3-a1b570ca1b20"
      },
      "outputs": [
        {
          "output_type": "stream",
          "name": "stdout",
          "text": [
            "\n",
            "Trotter step with Lie-Trotter\n",
            "-----------------------------\n",
            "\n",
            "                  Depth: 17\n",
            "             Gate count: 27\n",
            "    Nonlocal gate count: 10\n",
            "         Gate breakdown: CX: 10, U1: 6, R: 6, RZ: 5\n",
            "\n"
          ]
        },
        {
          "output_type": "execute_result",
          "data": {
            "text/plain": [
              "<Figure size 1541.66x535.111 with 1 Axes>"
            ],
            "image/png": "[encoded data removed]"
          },
          "metadata": {},
          "execution_count": 20
        }
      ],
      "source": [
        "from qiskit.circuit import QuantumCircuit\n",
        "from qiskit.circuit.library import PauliEvolutionGate\n",
        "from qiskit.synthesis import LieTrotter\n",
        "\n",
        "dt = final_time / num_timesteps\n",
        "trotter_step_first_order = PauliEvolutionGate(H, dt, synthesis=LieTrotter())\n",
        "\n",
        "# We create an empty circuit\n",
        "circuit = QuantumCircuit(H.num_qubits)\n",
        "circuit.append(trotter_step_first_order, range(H.num_qubits))\n",
        "circuit = circuit.decompose(reps=2)\n",
        "\n",
        "# Let us print some stats\n",
        "print(\n",
        "    f\"\"\"\n",
        "Trotter step with Lie-Trotter\n",
        "-----------------------------\n",
        "\n",
        "                  Depth: {circuit.depth()}\n",
        "             Gate count: {len(circuit)}\n",
        "    Nonlocal gate count: {circuit.num_nonlocal_gates()}\n",
        "         Gate breakdown: {\", \".join([f\"{k.upper()}: {v}\" for k, v in circuit.count_ops().items()])}\n",
        "\"\"\"\n",
        ")\n",
        "\n",
        "# And finally draw the circuit\n",
        "circuit.draw(\"mpl\")"
      ]
    },
    {
      "cell_type": "markdown",
      "id": "ad8c6b98-eb15-497f-ba17-35402c0f8a22",
      "metadata": {
        "id": "ad8c6b98-eb15-497f-ba17-35402c0f8a22"
      },
      "source": [
        "There exists a second-order formula, called the Suzuki-Trotter decomposition [3], and can be used in Qiskit by means of the [SuzukiTrotter class](https://docs.quantum.ibm.com/api/qiskit/qiskit.synthesis.SuzukiTrotter). Using this formula, a second order decomposition is:\n",
        "\n",
        "$$\n",
        "e^{A+B} \\approx e^{B/2}e^{A}e^{B/2}\n",
        "$$\n",
        "\n",
        "By means of recursions, higher-order approximations can be found [1]."
      ]
    },
    {
      "cell_type": "code",
      "execution_count": 21,
      "id": "9ef7b40c-cdcb-4e61-a4d9-b893af870821",
      "metadata": {
        "colab": {
          "base_uri": "https://localhost:8080/",
          "height": 991
        },
        "id": "9ef7b40c-cdcb-4e61-a4d9-b893af870821",
        "outputId": "f3ac8b3c-ab18-44fa-97fa-29e03860659d"
      },
      "outputs": [
        {
          "output_type": "stream",
          "name": "stdout",
          "text": [
            "\n",
            "Trotter step with Suzuki Trotter (2nd order)\n",
            "--------------------------------------------\n",
            "\n",
            "                  Depth: 34\n",
            "             Gate count: 53\n",
            "    Nonlocal gate count: 20\n",
            "         Gate breakdown: CX: 20, U1: 12, R: 11, RZ: 10\n",
            "\n",
            "\n"
          ]
        },
        {
          "output_type": "execute_result",
          "data": {
            "text/plain": [
              "<Figure size 2210.55x1120.39 with 1 Axes>"
            ],
            "image/png": "[encoded data removed]"
          },
          "metadata": {},
          "execution_count": 21
        }
      ],
      "source": [
        "from qiskit.synthesis import SuzukiTrotter\n",
        "\n",
        "second_order_formula = SuzukiTrotter()  # if not passed, order defaults to 2\n",
        "trotter_step_second_order = PauliEvolutionGate(H, dt, synthesis=second_order_formula)\n",
        "circuit = QuantumCircuit(H.num_qubits)\n",
        "circuit.append(trotter_step_second_order, range(H.num_qubits))\n",
        "circuit = circuit.decompose(reps=2)\n",
        "\n",
        "# Let us print some stats\n",
        "print(\n",
        "    f\"\"\"\n",
        "Trotter step with Suzuki Trotter (2nd order)\n",
        "--------------------------------------------\n",
        "\n",
        "                  Depth: {circuit.depth()}\n",
        "             Gate count: {len(circuit)}\n",
        "    Nonlocal gate count: {circuit.num_nonlocal_gates()}\n",
        "         Gate breakdown: {\", \".join([f\"{k.upper()}: {v}\" for k, v in circuit.count_ops().items()])}\n",
        "\n",
        "\"\"\"\n",
        ")\n",
        "\n",
        "# And finall\n",
        "circuit.draw(\"mpl\")"
      ]
    },
    {
      "cell_type": "code",
      "execution_count": 22,
      "id": "6c3befc4-9c10-4081-a245-d50e693dc195",
      "metadata": {
        "colab": {
          "base_uri": "https://localhost:8080/"
        },
        "id": "6c3befc4-9c10-4081-a245-d50e693dc195",
        "outputId": "75684877-dab1-4614-9d2c-09777909eef2",
        "scrolled": true
      },
      "outputs": [
        {
          "output_type": "stream",
          "name": "stdout",
          "text": [
            "\n",
            "Trotter step with Suzuki Trotter (4th order)\n",
            "--------------------------------------------\n",
            "\n",
            "                  Depth: 170\n",
            "             Gate count: 265\n",
            "    Nonlocal gate count: 100\n",
            "         Gate breakdown: CX: 100, U1: 60, R: 55, RZ: 50\n",
            "\n",
            "\n"
          ]
        }
      ],
      "source": [
        "fourth_order_formula = SuzukiTrotter(order=4)\n",
        "trotter_step_fourth_order = PauliEvolutionGate(H, dt, synthesis=fourth_order_formula)\n",
        "circuit = QuantumCircuit(H.num_qubits)\n",
        "circuit.append(trotter_step_fourth_order, range(H.num_qubits))\n",
        "circuit = circuit.decompose(reps=2)\n",
        "\n",
        "# Let us print some stats\n",
        "print(\n",
        "    f\"\"\"\n",
        "Trotter step with Suzuki Trotter (4th order)\n",
        "--------------------------------------------\n",
        "\n",
        "                  Depth: {circuit.depth()}\n",
        "             Gate count: {len(circuit)}\n",
        "    Nonlocal gate count: {circuit.num_nonlocal_gates()}\n",
        "         Gate breakdown: {\", \".join([f\"{k.upper()}: {v}\" for k, v in circuit.count_ops().items()])}\n",
        "\n",
        "\"\"\"\n",
        ")"
      ]
    },
    {
      "cell_type": "markdown",
      "id": "ab5323ce-33f9-4fba-8cfd-5bdf72ecb9c2",
      "metadata": {
        "id": "ab5323ce-33f9-4fba-8cfd-5bdf72ecb9c2"
      },
      "source": [
        "Finally, let us perform a simulation at fourth order."
      ]
    },
    {
      "cell_type": "code",
      "execution_count": 23,
      "id": "60beaab5-7b78-456b-8df4-097c14c7967c",
      "metadata": {
        "colab": {
          "base_uri": "https://localhost:8080/",
          "height": 393
        },
        "id": "60beaab5-7b78-456b-8df4-097c14c7967c",
        "outputId": "12021d6c-f235-461c-9e75-45fedf0cdaa1"
      },
      "outputs": [
        {
          "output_type": "stream",
          "name": "stderr",
          "text": [
            "<ipython-input-23-0219860d83e5>:3: DeprecationWarning: The class ``qiskit.primitives.estimator.Estimator`` is deprecated as of qiskit 1.2. It will be removed no earlier than 3 months after the release date. All implementations of the `BaseEstimatorV1` interface have been deprecated in favor of their V2 counterparts. The V2 alternative for the `Estimator` class is `StatevectorEstimator`.\n",
            "  trotter = TrotterQRTE(SuzukiTrotter(order=4), num_timesteps=num_timesteps, estimator=Estimator())\n"
          ]
        },
        {
          "output_type": "error",
          "ename": "KeyboardInterrupt",
          "evalue": "",
          "traceback": [
            "\u001b[0;31m---------------------------------------------------------------------------\u001b[0m",
            "\u001b[0;31mKeyboardInterrupt\u001b[0m                         Traceback (most recent call last)",
            "\u001b[0;32m<ipython-input-23-0219860d83e5>\u001b[0m in \u001b[0;36m<cell line: 10>\u001b[0;34m()\u001b[0m\n\u001b[1;32m      8\u001b[0m     \u001b[0maux_operators\u001b[0m\u001b[0;34m=\u001b[0m\u001b[0;34m[\u001b[0m\u001b[0mH\u001b[0m\u001b[0;34m,\u001b[0m \u001b[0mmagnetization_op\u001b[0m\u001b[0;34m,\u001b[0m \u001b[0mcorrelation_op\u001b[0m\u001b[0;34m]\u001b[0m\u001b[0;34m,\u001b[0m\u001b[0;34m\u001b[0m\u001b[0;34m\u001b[0m\u001b[0m\n\u001b[1;32m      9\u001b[0m )\n\u001b[0;32m---> 10\u001b[0;31m \u001b[0mresult\u001b[0m \u001b[0;34m=\u001b[0m \u001b[0mtrotter\u001b[0m\u001b[0;34m.\u001b[0m\u001b[0mevolve\u001b[0m\u001b[0;34m(\u001b[0m\u001b[0mproblem\u001b[0m\u001b[0;34m)\u001b[0m\u001b[0;34m\u001b[0m\u001b[0;34m\u001b[0m\u001b[0m\n\u001b[0m\u001b[1;32m     11\u001b[0m \u001b[0mobservables_order4\u001b[0m \u001b[0;34m=\u001b[0m \u001b[0mnp\u001b[0m\u001b[0;34m.\u001b[0m\u001b[0marray\u001b[0m\u001b[0;34m(\u001b[0m\u001b[0mnp\u001b[0m\u001b[0;34m.\u001b[0m\u001b[0marray\u001b[0m\u001b[0;34m(\u001b[0m\u001b[0mresult\u001b[0m\u001b[0;34m.\u001b[0m\u001b[0mobservables\u001b[0m\u001b[0;34m)\u001b[0m\u001b[0;34m[\u001b[0m\u001b[0;34m:\u001b[0m\u001b[0;34m,\u001b[0m \u001b[0;34m:\u001b[0m\u001b[0;34m,\u001b[0m \u001b[0;36m0\u001b[0m\u001b[0;34m]\u001b[0m\u001b[0;34m,\u001b[0m \u001b[0mdtype\u001b[0m\u001b[0;34m=\u001b[0m\u001b[0mnp\u001b[0m\u001b[0;34m.\u001b[0m\u001b[0mfloat64\u001b[0m\u001b[0;34m)\u001b[0m\u001b[0;34m\u001b[0m\u001b[0;34m\u001b[0m\u001b[0m\n",
            "\u001b[0;32m/usr/local/lib/python3.10/dist-packages/qiskit_algorithms/time_evolvers/trotterization/trotter_qrte.py\u001b[0m in \u001b[0;36mevolve\u001b[0;34m(self, evolution_problem)\u001b[0m\n\u001b[1;32m    241\u001b[0m             \u001b[0;32mif\u001b[0m \u001b[0mevolution_problem\u001b[0m\u001b[0;34m.\u001b[0m\u001b[0maux_operators\u001b[0m \u001b[0;32mis\u001b[0m \u001b[0;32mnot\u001b[0m \u001b[0;32mNone\u001b[0m\u001b[0;34m:\u001b[0m\u001b[0;34m\u001b[0m\u001b[0;34m\u001b[0m\u001b[0m\n\u001b[1;32m    242\u001b[0m                 observables.append(\n\u001b[0;32m--> 243\u001b[0;31m                     estimate_observables(\n\u001b[0m\u001b[1;32m    244\u001b[0m                         \u001b[0mself\u001b[0m\u001b[0;34m.\u001b[0m\u001b[0mestimator\u001b[0m\u001b[0;34m,\u001b[0m\u001b[0;34m\u001b[0m\u001b[0;34m\u001b[0m\u001b[0m\n\u001b[1;32m    245\u001b[0m                         \u001b[0mevolved_state\u001b[0m\u001b[0;34m,\u001b[0m\u001b[0;34m\u001b[0m\u001b[0;34m\u001b[0m\u001b[0m\n",
            "\u001b[0;32m/usr/local/lib/python3.10/dist-packages/qiskit_algorithms/observables_evaluator.py\u001b[0m in \u001b[0;36mestimate_observables\u001b[0;34m(estimator, quantum_state, observables, parameter_values, threshold)\u001b[0m\n\u001b[1;32m     70\u001b[0m         \u001b[0;32mtry\u001b[0m\u001b[0;34m:\u001b[0m\u001b[0;34m\u001b[0m\u001b[0;34m\u001b[0m\u001b[0m\n\u001b[1;32m     71\u001b[0m             \u001b[0mestimator_job\u001b[0m \u001b[0;34m=\u001b[0m \u001b[0mestimator\u001b[0m\u001b[0;34m.\u001b[0m\u001b[0mrun\u001b[0m\u001b[0;34m(\u001b[0m\u001b[0mquantum_state\u001b[0m\u001b[0;34m,\u001b[0m \u001b[0mobservables_list\u001b[0m\u001b[0;34m,\u001b[0m \u001b[0mparameter_values_\u001b[0m\u001b[0;34m)\u001b[0m\u001b[0;34m\u001b[0m\u001b[0;34m\u001b[0m\u001b[0m\n\u001b[0;32m---> 72\u001b[0;31m             \u001b[0mexpectation_values\u001b[0m \u001b[0;34m=\u001b[0m \u001b[0mestimator_job\u001b[0m\u001b[0;34m.\u001b[0m\u001b[0mresult\u001b[0m\u001b[0;34m(\u001b[0m\u001b[0;34m)\u001b[0m\u001b[0;34m.\u001b[0m\u001b[0mvalues\u001b[0m\u001b[0;34m\u001b[0m\u001b[0;34m\u001b[0m\u001b[0m\n\u001b[0m\u001b[1;32m     73\u001b[0m         \u001b[0;32mexcept\u001b[0m \u001b[0mException\u001b[0m \u001b[0;32mas\u001b[0m \u001b[0mexc\u001b[0m\u001b[0;34m:\u001b[0m\u001b[0;34m\u001b[0m\u001b[0;34m\u001b[0m\u001b[0m\n\u001b[1;32m     74\u001b[0m             \u001b[0;32mraise\u001b[0m \u001b[0mAlgorithmError\u001b[0m\u001b[0;34m(\u001b[0m\u001b[0;34m\"The primitive job failed!\"\u001b[0m\u001b[0;34m)\u001b[0m \u001b[0;32mfrom\u001b[0m \u001b[0mexc\u001b[0m\u001b[0;34m\u001b[0m\u001b[0;34m\u001b[0m\u001b[0m\n",
            "\u001b[0;32m/usr/local/lib/python3.10/dist-packages/qiskit/primitives/primitive_job.py\u001b[0m in \u001b[0;36mresult\u001b[0;34m(self)\u001b[0m\n\u001b[1;32m     49\u001b[0m     \u001b[0;32mdef\u001b[0m \u001b[0mresult\u001b[0m\u001b[0;34m(\u001b[0m\u001b[0mself\u001b[0m\u001b[0;34m)\u001b[0m \u001b[0;34m->\u001b[0m \u001b[0mResultT\u001b[0m\u001b[0;34m:\u001b[0m\u001b[0;34m\u001b[0m\u001b[0;34m\u001b[0m\u001b[0m\n\u001b[1;32m     50\u001b[0m         \u001b[0mself\u001b[0m\u001b[0;34m.\u001b[0m\u001b[0m_check_submitted\u001b[0m\u001b[0;34m(\u001b[0m\u001b[0;34m)\u001b[0m\u001b[0;34m\u001b[0m\u001b[0;34m\u001b[0m\u001b[0m\n\u001b[0;32m---> 51\u001b[0;31m         \u001b[0;32mreturn\u001b[0m \u001b[0mself\u001b[0m\u001b[0;34m.\u001b[0m\u001b[0m_future\u001b[0m\u001b[0;34m.\u001b[0m\u001b[0mresult\u001b[0m\u001b[0;34m(\u001b[0m\u001b[0;34m)\u001b[0m\u001b[0;34m\u001b[0m\u001b[0;34m\u001b[0m\u001b[0m\n\u001b[0m\u001b[1;32m     52\u001b[0m \u001b[0;34m\u001b[0m\u001b[0m\n\u001b[1;32m     53\u001b[0m     \u001b[0;32mdef\u001b[0m \u001b[0mstatus\u001b[0m\u001b[0;34m(\u001b[0m\u001b[0mself\u001b[0m\u001b[0;34m)\u001b[0m \u001b[0;34m->\u001b[0m \u001b[0mJobStatus\u001b[0m\u001b[0;34m:\u001b[0m\u001b[0;34m\u001b[0m\u001b[0;34m\u001b[0m\u001b[0m\n",
            "\u001b[0;32m/usr/lib/python3.10/concurrent/futures/_base.py\u001b[0m in \u001b[0;36mresult\u001b[0;34m(self, timeout)\u001b[0m\n\u001b[1;32m    451\u001b[0m                     \u001b[0;32mreturn\u001b[0m \u001b[0mself\u001b[0m\u001b[0;34m.\u001b[0m\u001b[0m__get_result\u001b[0m\u001b[0;34m(\u001b[0m\u001b[0;34m)\u001b[0m\u001b[0;34m\u001b[0m\u001b[0;34m\u001b[0m\u001b[0m\n\u001b[1;32m    452\u001b[0m \u001b[0;34m\u001b[0m\u001b[0m\n\u001b[0;32m--> 453\u001b[0;31m                 \u001b[0mself\u001b[0m\u001b[0;34m.\u001b[0m\u001b[0m_condition\u001b[0m\u001b[0;34m.\u001b[0m\u001b[0mwait\u001b[0m\u001b[0;34m(\u001b[0m\u001b[0mtimeout\u001b[0m\u001b[0;34m)\u001b[0m\u001b[0;34m\u001b[0m\u001b[0;34m\u001b[0m\u001b[0m\n\u001b[0m\u001b[1;32m    454\u001b[0m \u001b[0;34m\u001b[0m\u001b[0m\n\u001b[1;32m    455\u001b[0m                 \u001b[0;32mif\u001b[0m \u001b[0mself\u001b[0m\u001b[0;34m.\u001b[0m\u001b[0m_state\u001b[0m \u001b[0;32min\u001b[0m \u001b[0;34m[\u001b[0m\u001b[0mCANCELLED\u001b[0m\u001b[0;34m,\u001b[0m \u001b[0mCANCELLED_AND_NOTIFIED\u001b[0m\u001b[0;34m]\u001b[0m\u001b[0;34m:\u001b[0m\u001b[0;34m\u001b[0m\u001b[0;34m\u001b[0m\u001b[0m\n",
            "\u001b[0;32m/usr/lib/python3.10/threading.py\u001b[0m in \u001b[0;36mwait\u001b[0;34m(self, timeout)\u001b[0m\n\u001b[1;32m    318\u001b[0m         \u001b[0;32mtry\u001b[0m\u001b[0;34m:\u001b[0m    \u001b[0;31m# restore state no matter what (e.g., KeyboardInterrupt)\u001b[0m\u001b[0;34m\u001b[0m\u001b[0;34m\u001b[0m\u001b[0m\n\u001b[1;32m    319\u001b[0m             \u001b[0;32mif\u001b[0m \u001b[0mtimeout\u001b[0m \u001b[0;32mis\u001b[0m \u001b[0;32mNone\u001b[0m\u001b[0;34m:\u001b[0m\u001b[0;34m\u001b[0m\u001b[0;34m\u001b[0m\u001b[0m\n\u001b[0;32m--> 320\u001b[0;31m                 \u001b[0mwaiter\u001b[0m\u001b[0;34m.\u001b[0m\u001b[0macquire\u001b[0m\u001b[0;34m(\u001b[0m\u001b[0;34m)\u001b[0m\u001b[0;34m\u001b[0m\u001b[0;34m\u001b[0m\u001b[0m\n\u001b[0m\u001b[1;32m    321\u001b[0m                 \u001b[0mgotit\u001b[0m \u001b[0;34m=\u001b[0m \u001b[0;32mTrue\u001b[0m\u001b[0;34m\u001b[0m\u001b[0;34m\u001b[0m\u001b[0m\n\u001b[1;32m    322\u001b[0m             \u001b[0;32melse\u001b[0m\u001b[0;34m:\u001b[0m\u001b[0;34m\u001b[0m\u001b[0;34m\u001b[0m\u001b[0m\n",
            "\u001b[0;31mKeyboardInterrupt\u001b[0m: "
          ]
        }
      ],
      "source": [
        "from qiskit.synthesis import SuzukiTrotter\n",
        "\n",
        "trotter = TrotterQRTE(SuzukiTrotter(order=4), num_timesteps=num_timesteps, estimator=Estimator())\n",
        "problem = TimeEvolutionProblem(\n",
        "    H,\n",
        "    initial_state=initial_state,\n",
        "    time=final_time,\n",
        "    aux_operators=[H, magnetization_op, correlation_op],\n",
        ")\n",
        "result = trotter.evolve(problem)\n",
        "observables_order4 = np.array(np.array(result.observables)[:, :, 0], dtype=np.float64)"
      ]
    },
    {
      "cell_type": "markdown",
      "id": "6b1c5876-f313-4620-82dd-6ac51c1f8a76",
      "metadata": {
        "id": "6b1c5876-f313-4620-82dd-6ac51c1f8a76"
      },
      "source": [
        "and plot the results."
      ]
    },
    {
      "cell_type": "code",
      "execution_count": null,
      "id": "227b00c2-063e-4409-996e-5f8e48844ab8",
      "metadata": {
        "id": "227b00c2-063e-4409-996e-5f8e48844ab8"
      },
      "outputs": [],
      "source": [
        "axes[0].plot(\n",
        "    times, observables_order4[:, 0], label=\"Fourth Order\", marker=\"x\", c=\"limegreen\", ls=\"-\", lw=0.8\n",
        ")\n",
        "axes[1].plot(\n",
        "    times, observables_order4[:, 1], label=\"Fourth Order\", marker=\"x\", c=\"limegreen\", ls=\"-\", lw=0.8\n",
        ")\n",
        "axes[2].plot(\n",
        "    times, observables_order4[:, 2], label=\"Fourth Order\", marker=\"x\", c=\"limegreen\", ls=\"-\", lw=0.8\n",
        ")\n",
        "\n",
        "# Replace the legend\n",
        "legend.remove()\n",
        "legend = fig.legend(\n",
        "    *axes[0].get_legend_handles_labels(),\n",
        "    bbox_to_anchor=(1.0, 0.5),\n",
        "    loc=\"center left\",\n",
        "    framealpha=0.5,\n",
        ")\n",
        "fig"
      ]
    },
    {
      "cell_type": "markdown",
      "id": "5cd822d9-44ee-4391-8b47-ff861aa37451",
      "metadata": {
        "id": "5cd822d9-44ee-4391-8b47-ff861aa37451"
      },
      "source": [
        "As it is to expect, we can directly see that a higher-order product formula leads to more accurate expectation values."
      ]
    },
    {
      "cell_type": "markdown",
      "id": "04063266-5c25-43b8-b2b8-62f343ddd012",
      "metadata": {
        "id": "04063266-5c25-43b8-b2b8-62f343ddd012"
      },
      "source": [
        "### Magnetization evolution plot\n",
        "\n",
        "In this last step, we aim at visualizing the time evolution of each one of the sites of the lattice individually. Let us present the expected value of the magnetization of each one of the sites as a function of time in a color plot. As the initial state was $\\vert\\psi(0)\\rangle = \\vert001100\\rangle$ (spin sequence $\\uparrow\\uparrow\\downarrow\\downarrow\\uparrow\\uparrow$), at time $t=0$ we expect to see magnetization $-1$ in the two middle signs and $+1$ elsewhere. During the evolution, as the plot above suggests, we can expect to see oscillations which will eventually damp."
      ]
    },
    {
      "cell_type": "code",
      "execution_count": null,
      "id": "cb194f62-1d36-45a4-9874-b937ffc76860",
      "metadata": {
        "id": "cb194f62-1d36-45a4-9874-b937ffc76860"
      },
      "outputs": [],
      "source": [
        "from matplotlib import cm\n",
        "\n",
        "# An inner list comprehension loops over the terms of the SparsePauliOp magnetization_op,\n",
        "# which corresponds to the magnetization of each one of the sites\n",
        "magnetizations = np.real(\n",
        "    [[sv.expectation_value(term) for term in magnetization_op] for sv in exact_evolution]\n",
        ")\n",
        "# The shape of magnetizations is (101, 6), containing <Z>(t) for each site 0, 1, ..., 5\n",
        "plt.figure(figsize=(14, 2))\n",
        "# Create the 2-dim xx and yy arrays tiling the grid with the x and y values\n",
        "xx, yy = np.meshgrid(exact_times, np.arange(L))\n",
        "plt.pcolor(xx, yy, magnetizations.T, vmin=-1, vmax=+1, cmap=\"RdBu\")\n",
        "# Force the figure to have all y ticks from 0 to 5\n",
        "plt.yticks(np.arange(L))\n",
        "plt.ylabel(\"Site $i$\")\n",
        "plt.xlabel(\"Time\")\n",
        "plt.colorbar(label=\"$\\\\langle Z_i \\\\rangle$\", aspect=1.8)"
      ]
    },
    {
      "cell_type": "markdown",
      "id": "f8f1d285-2f9d-404a-9fac-6b599760af7c",
      "metadata": {
        "id": "f8f1d285-2f9d-404a-9fac-6b599760af7c"
      },
      "source": [
        "## References\n",
        "\n",
        "[1] Hatano, Naomichi, and Masuo Suzuki. \"Finding exponential product formulas of higher orders.\" _Quantum annealing and other optimization methods._ Berlin, Heidelberg: Springer Berlin Heidelberg, 2005. 37-68.\n",
        "\n",
        "[2] Varadarajan, Veeravalli S. _Lie groups, Lie algebras, and their representations._ Vol. 102. Springer Science & Business Media, 2013.\n",
        "\n",
        "[3] Magnus, Wilhelm. \"On the exponential solution of differential equations for a linear operator.\" _Communications on pure and applied mathematics_ 7.4 (1954): 649-673."
      ]
    },
    {
      "cell_type": "markdown",
      "id": "3bcDea-jJjFd",
      "metadata": {
        "id": "3bcDea-jJjFd"
      },
      "source": [
        "# Lattice models"
      ]
    },
    {
      "cell_type": "markdown",
      "id": "66mPnRxIJjFf",
      "metadata": {
        "id": "66mPnRxIJjFf"
      },
      "source": [
        "## Introduction\n",
        "In quantum physics (including condensed matter physics and high energy physics) we often study models on lattices.\n",
        "For example, when we think about behavior of electrons in a solid, we can study a model defined on a lattice by considering the positions of atoms as lattice points.\n",
        "This notebook demonstrates how we can utilize `Lattice` classes to generate various lattice systems such as `LineLattice`, `SquareLattice`, `HyperCubicLattice`, `TriangularLattice`, and a general lattice.\n",
        "It also includes an example of a lattice model, the Fermi-Hubbard model.\n",
        "We see how we can define the Hamiltonian of the Fermi-Hubbard model for a given lattice using `FermiHubbardModel` class."
      ]
    },
    {
      "cell_type": "code",
      "execution_count": null,
      "id": "ar4LRWKUJjFh",
      "metadata": {
        "id": "ar4LRWKUJjFh"
      },
      "outputs": [],
      "source": [
        "from math import pi\n",
        "\n",
        "import numpy as np\n",
        "import rustworkx as rx\n",
        "from qiskit_nature.second_q.hamiltonians.lattices import (\n",
        "    BoundaryCondition,\n",
        "    HyperCubicLattice,\n",
        "    Lattice,\n",
        "    LatticeDrawStyle,\n",
        "    LineLattice,\n",
        "    SquareLattice,\n",
        "    TriangularLattice,\n",
        ")\n",
        "from qiskit_nature.second_q.hamiltonians import FermiHubbardModel"
      ]
    },
    {
      "cell_type": "markdown",
      "id": "PQ4Ilg5_JjFi",
      "metadata": {
        "id": "PQ4Ilg5_JjFi"
      },
      "source": [
        "## LineLattice\n",
        "`LineLattice` provides a one-dimensional lattice.\n",
        "We can construct a one-dimensional lattice as follows."
      ]
    },
    {
      "cell_type": "code",
      "execution_count": null,
      "id": "7jyStJ0BJjFj",
      "metadata": {
        "id": "7jyStJ0BJjFj"
      },
      "outputs": [],
      "source": [
        "num_nodes = 11\n",
        "boundary_condition = BoundaryCondition.OPEN\n",
        "line_lattice = LineLattice(num_nodes=num_nodes, boundary_condition=boundary_condition)"
      ]
    },
    {
      "cell_type": "markdown",
      "id": "DkecUMByJjFk",
      "metadata": {
        "id": "DkecUMByJjFk"
      },
      "source": [
        "Here, it is visualized."
      ]
    },
    {
      "cell_type": "code",
      "execution_count": null,
      "id": "mp2JBa9gJjFk",
      "metadata": {
        "id": "mp2JBa9gJjFk"
      },
      "outputs": [],
      "source": [
        "line_lattice.draw()"
      ]
    },
    {
      "cell_type": "markdown",
      "id": "apTbRk38JjFl",
      "metadata": {
        "id": "apTbRk38JjFl"
      },
      "source": [
        "We can also construct a one-dimensional lattice with the periodic boundary conditions by specifying `BoundaryCondition.PERIODIC` as the argument of `boundary_condition`."
      ]
    },
    {
      "cell_type": "code",
      "execution_count": null,
      "id": "dc4PBU0bJjFl",
      "metadata": {
        "id": "dc4PBU0bJjFl"
      },
      "outputs": [],
      "source": [
        "num_nodes = 11\n",
        "boundary_condition = BoundaryCondition.PERIODIC\n",
        "line_lattice = LineLattice(num_nodes=num_nodes, boundary_condition=boundary_condition)\n",
        "\n",
        "line_lattice.draw()"
      ]
    },
    {
      "cell_type": "markdown",
      "id": "ZcYynvglJjFn",
      "metadata": {
        "id": "ZcYynvglJjFn"
      },
      "source": [
        "When we want to draw the lattice ignoring the boundary conditions, we use the method `draw_without_boundary`."
      ]
    },
    {
      "cell_type": "code",
      "execution_count": null,
      "id": "E5_wWEqnJjFn",
      "metadata": {
        "id": "E5_wWEqnJjFn"
      },
      "outputs": [],
      "source": [
        "line_lattice.draw_without_boundary()"
      ]
    },
    {
      "cell_type": "markdown",
      "id": "eTG_oDTeJjFp",
      "metadata": {
        "id": "eTG_oDTeJjFp"
      },
      "source": [
        "We can define real or complex weights for the edges of the lattice.\n",
        "This is done by giving a value to the argument `edge_parameter`.\n",
        "We can also give a value for the self-loops of the lattice by passing the value for `onsite_parameter`."
      ]
    },
    {
      "cell_type": "code",
      "execution_count": null,
      "id": "mJbxZvLtJjFp",
      "metadata": {
        "id": "mJbxZvLtJjFp"
      },
      "outputs": [],
      "source": [
        "num_nodes = 11\n",
        "boundary_condition = BoundaryCondition.PERIODIC\n",
        "edge_parameter = 1.0 + 1.0j\n",
        "onsite_parameter = 1.0\n",
        "line_lattice = LineLattice(\n",
        "    num_nodes=num_nodes,\n",
        "    edge_parameter=edge_parameter,\n",
        "    onsite_parameter=onsite_parameter,\n",
        "    boundary_condition=boundary_condition,\n",
        ")\n",
        "set(line_lattice.graph.weighted_edge_list())"
      ]
    },
    {
      "cell_type": "markdown",
      "id": "yQVlreu8JjFp",
      "metadata": {
        "id": "yQVlreu8JjFp"
      },
      "source": [
        "The connectivity of the lattice can be seen as the adjacency matrix, which is done by `to_adjacency_matrix`."
      ]
    },
    {
      "cell_type": "code",
      "execution_count": null,
      "id": "ZugktueEJjFp",
      "metadata": {
        "id": "ZugktueEJjFp"
      },
      "outputs": [],
      "source": [
        "line_lattice.to_adjacency_matrix()"
      ]
    },
    {
      "cell_type": "markdown",
      "id": "vFuDouH8JjFq",
      "metadata": {
        "id": "vFuDouH8JjFq"
      },
      "source": [
        "By setting `weighted=True`, we obtain a Hermitian matrix whose matrix elements are the weights."
      ]
    },
    {
      "cell_type": "code",
      "execution_count": null,
      "id": "S89xhhLWJjFq",
      "metadata": {
        "id": "S89xhhLWJjFq"
      },
      "outputs": [],
      "source": [
        "line_lattice.to_adjacency_matrix(weighted=True)"
      ]
    },
    {
      "cell_type": "markdown",
      "id": "kQv3ZGrvJjFq",
      "metadata": {
        "id": "kQv3ZGrvJjFq"
      },
      "source": [
        "## SquareLattice\n",
        "`SquareLattice` provides a two-dimensional lattice.\n",
        "Here, we make a two-dimensional lattice with the open boundary conditions."
      ]
    },
    {
      "cell_type": "code",
      "execution_count": null,
      "id": "FI65h5K2JjFr",
      "metadata": {
        "id": "FI65h5K2JjFr"
      },
      "outputs": [],
      "source": [
        "rows = 5\n",
        "cols = 4\n",
        "boundary_condition = BoundaryCondition.OPEN\n",
        "square_lattice = SquareLattice(rows=rows, cols=cols, boundary_condition=boundary_condition)\n",
        "\n",
        "square_lattice.draw()"
      ]
    },
    {
      "cell_type": "markdown",
      "id": "zYdHZqJRJjFr",
      "metadata": {
        "id": "zYdHZqJRJjFr"
      },
      "source": [
        "We can specify the boundary conditions for each direction by setting `boundary_condition` as a tuple."
      ]
    },
    {
      "cell_type": "code",
      "execution_count": null,
      "id": "1850O8EFJjFr",
      "metadata": {
        "id": "1850O8EFJjFr"
      },
      "outputs": [],
      "source": [
        "rows = 5\n",
        "cols = 4\n",
        "boundary_condition = (\n",
        "    BoundaryCondition.OPEN,\n",
        "    BoundaryCondition.PERIODIC,\n",
        ")  # open in the x-direction, periodic in the y-direction\n",
        "square_lattice = SquareLattice(rows=rows, cols=cols, boundary_condition=boundary_condition)\n",
        "\n",
        "square_lattice.draw()"
      ]
    },
    {
      "cell_type": "markdown",
      "id": "gCpJVMuxJjFs",
      "metadata": {
        "id": "gCpJVMuxJjFs"
      },
      "source": [
        "Again, we can give weights on the edges and the self-loops of the lattice.\n",
        "Here, it is possible to give weights for each direction as a tuple."
      ]
    },
    {
      "cell_type": "code",
      "execution_count": null,
      "id": "N8jXQXjiJjFs",
      "metadata": {
        "id": "N8jXQXjiJjFs"
      },
      "outputs": [],
      "source": [
        "rows = 5\n",
        "cols = 4\n",
        "edge_parameter = (1.0, 1.0 + 1.0j)\n",
        "boundary_condition = (\n",
        "    BoundaryCondition.OPEN,\n",
        "    BoundaryCondition.PERIODIC,\n",
        ")  # open in the x-direction, periodic in the y-direction\n",
        "onsite_parameter = 1.0\n",
        "square_lattice = SquareLattice(\n",
        "    rows=rows,\n",
        "    cols=cols,\n",
        "    edge_parameter=edge_parameter,\n",
        "    onsite_parameter=onsite_parameter,\n",
        "    boundary_condition=boundary_condition,\n",
        ")\n",
        "\n",
        "set(square_lattice.graph.weighted_edge_list())"
      ]
    },
    {
      "cell_type": "markdown",
      "id": "fwNkGqw3JjFt",
      "metadata": {
        "id": "fwNkGqw3JjFt"
      },
      "source": [
        "## HyperCubicLattice\n",
        "`HyperCubicLattice` is a generalization of `LineLattice` and `SquareLattice`.\n",
        "It provides an arbitrary d-dimensional lattice.\n",
        "Here, we make a three-dimensional lattice of size 3 by 4 by 5 as an example.\n",
        "The size is given as a tuple, and the boundary conditions can be specified for each direction too.\n",
        "In the example, the boundary conditions are open."
      ]
    },
    {
      "cell_type": "code",
      "execution_count": null,
      "id": "x22YkoZjJjFt",
      "metadata": {
        "id": "x22YkoZjJjFt"
      },
      "outputs": [],
      "source": [
        "size = (3, 4, 5)\n",
        "boundary_condition = (\n",
        "    BoundaryCondition.OPEN,\n",
        "    BoundaryCondition.OPEN,\n",
        "    BoundaryCondition.OPEN,\n",
        ")\n",
        "cubic_lattice = HyperCubicLattice(size=size, boundary_condition=boundary_condition)"
      ]
    },
    {
      "cell_type": "markdown",
      "id": "LnwUb_JNJjFt",
      "metadata": {
        "id": "LnwUb_JNJjFt"
      },
      "source": [
        "We draw the cubic lattice specifying the positions of the lattice points."
      ]
    },
    {
      "cell_type": "code",
      "execution_count": null,
      "id": "EBiLDBbNJjFt",
      "metadata": {
        "id": "EBiLDBbNJjFt",
        "tags": [
          "nbsphinx-thumbnail"
        ]
      },
      "outputs": [],
      "source": [
        "# function for setting the positions\n",
        "def indextocoord_3d(index: int, size: tuple, angle) -> list:\n",
        "    z = index // (size[0] * size[1])\n",
        "    a = index % (size[0] * size[1])\n",
        "    y = a // size[0]\n",
        "    x = a % size[0]\n",
        "    vec_x = np.array([1, 0])\n",
        "    vec_y = np.array([np.cos(angle), np.sin(angle)])\n",
        "    vec_z = np.array([0, 1])\n",
        "    return_coord = x * vec_x + y * vec_y + z * vec_z\n",
        "    return return_coord.tolist()\n",
        "\n",
        "\n",
        "pos = dict([(index, indextocoord_3d(index, size, angle=pi / 4)) for index in range(np.prod(size))])\n",
        "\n",
        "cubic_lattice.draw(style=LatticeDrawStyle(pos=pos))"
      ]
    },
    {
      "cell_type": "markdown",
      "id": "cFB3-lNDJjFu",
      "metadata": {
        "id": "cFB3-lNDJjFu"
      },
      "source": [
        "## TriangularLattice\n",
        "`TriangularLattice` provides a triangular lattice, which can be seen as a two-dimensional lattice with diagonal edges.\n",
        "The argument `boundary_condition` can take either \"open\" or \"periodic\"."
      ]
    },
    {
      "cell_type": "code",
      "execution_count": null,
      "id": "PMQEDDgOJjFu",
      "metadata": {
        "id": "PMQEDDgOJjFu"
      },
      "outputs": [],
      "source": [
        "rows = 4\n",
        "cols = 3\n",
        "boundary_condition = BoundaryCondition.OPEN\n",
        "\n",
        "triangular_lattice = TriangularLattice(rows=rows, cols=cols, boundary_condition=boundary_condition)\n",
        "\n",
        "triangular_lattice.draw()"
      ]
    },
    {
      "cell_type": "code",
      "execution_count": null,
      "id": "0UnDwmqTJjFu",
      "metadata": {
        "id": "0UnDwmqTJjFu"
      },
      "outputs": [],
      "source": [
        "rows = 4\n",
        "cols = 3\n",
        "boundary_condition = BoundaryCondition.PERIODIC\n",
        "\n",
        "triangular_lattice = TriangularLattice(rows=rows, cols=cols, boundary_condition=boundary_condition)\n",
        "\n",
        "triangular_lattice.draw()"
      ]
    },
    {
      "cell_type": "markdown",
      "id": "5JNmptGMJjFv",
      "metadata": {
        "id": "5JNmptGMJjFv"
      },
      "source": [
        "## General Lattice\n",
        "Above, we have seen translational invariant lattices.\n",
        "Here, we consider a general lattice.\n",
        "We can construct a general lattice consisting of nodes and edges using an instance of PyGraph."
      ]
    },
    {
      "cell_type": "code",
      "execution_count": null,
      "id": "m0R4_ORpJjFv",
      "metadata": {
        "id": "m0R4_ORpJjFv"
      },
      "outputs": [],
      "source": [
        "graph = rx.PyGraph(multigraph=False)  # multigraph shoud be False\n",
        "graph.add_nodes_from(range(6))\n",
        "weighted_edge_list = [\n",
        "    (0, 1, 1.0 + 1.0j),\n",
        "    (0, 2, -1.0),\n",
        "    (2, 3, 2.0),\n",
        "    (4, 2, -1.0 + 2.0j),\n",
        "    (4, 4, 3.0),\n",
        "    (2, 5, -1.0),\n",
        "]\n",
        "graph.add_edges_from(weighted_edge_list)\n",
        "\n",
        "# make a lattice\n",
        "general_lattice = Lattice(graph)\n",
        "set(general_lattice.graph.weighted_edge_list())"
      ]
    },
    {
      "cell_type": "markdown",
      "id": "6sw_LgNiJjFv",
      "metadata": {
        "id": "6sw_LgNiJjFv"
      },
      "source": [
        "Here is its visualization."
      ]
    },
    {
      "cell_type": "code",
      "execution_count": null,
      "id": "LyG1Vzc0JjFw",
      "metadata": {
        "id": "LyG1Vzc0JjFw"
      },
      "outputs": [],
      "source": [
        "general_lattice.draw()"
      ]
    },
    {
      "cell_type": "markdown",
      "id": "McIPO_TsJjFw",
      "metadata": {
        "id": "McIPO_TsJjFw"
      },
      "source": [
        "When we want to visualize the self-loops in the lattice, we set `self_loop` to True."
      ]
    },
    {
      "cell_type": "code",
      "execution_count": null,
      "id": "JR-xdZQ1JjFw",
      "metadata": {
        "id": "JR-xdZQ1JjFw"
      },
      "outputs": [],
      "source": [
        "general_lattice.draw(self_loop=True)"
      ]
    },
    {
      "cell_type": "markdown",
      "id": "Ng8apqrMJjFw",
      "metadata": {
        "id": "Ng8apqrMJjFw"
      },
      "source": [
        "The labels of the lattice sites are drawn when `with_labels` is True."
      ]
    },
    {
      "cell_type": "code",
      "execution_count": null,
      "id": "DMy1TngGJjFw",
      "metadata": {
        "id": "DMy1TngGJjFw"
      },
      "outputs": [],
      "source": [
        "general_lattice.draw(self_loop=True, style=LatticeDrawStyle(with_labels=True))"
      ]
    },
    {
      "cell_type": "markdown",
      "id": "7qh3lBXgJjFx",
      "metadata": {
        "id": "7qh3lBXgJjFx"
      },
      "source": [
        "## The Fermi-Hubbard model\n",
        "The Fermi-Hubbard model is the simplest model describing electrons moving on a lattice and interaction with each other at the same site.\n",
        "The Hamiltonian is given as follows:"
      ]
    },
    {
      "cell_type": "markdown",
      "id": "XVMYk4cwJjFx",
      "metadata": {
        "id": "XVMYk4cwJjFx"
      },
      "source": [
        "$$\n",
        "H = \\sum_{i, j}\\sum_{\\sigma = \\uparrow, \\downarrow} t_{i, j} c_{i, \\sigma}^\\dagger c_{j, \\sigma} + U \\sum_{i} n_{i, \\uparrow} n_{i, \\downarrow},\n",
        "$$"
      ]
    },
    {
      "cell_type": "markdown",
      "id": "V8MoDFO7JjFx",
      "metadata": {
        "id": "V8MoDFO7JjFx"
      },
      "source": [
        "where $c_{i, \\sigma}^\\dagger$ and $c_{i, \\sigma}$ are creation and annihilation operators of fermion at the site $i$ with spin $\\sigma$.\n",
        "The operator $n_{i, \\sigma}$ is the number operator, which is defined by $n_{i, \\sigma} = c_{i, \\sigma}^\\dagger c_{i, \\sigma}$.\n",
        "The matrix $t_{i, j}$ is a Hermitian matrix called interaction matrix.\n",
        "The parameter $U$ represents the strength of the interaction."
      ]
    },
    {
      "cell_type": "markdown",
      "id": "z-reLzK0JjFx",
      "metadata": {
        "id": "z-reLzK0JjFx"
      },
      "source": [
        "We can generate the corresponding Hamiltonian of a given lattice using `FermiHubbardModel` class.\n",
        "Here, we construct the Hamiltonian with uniform interaction and interaction parameters on a two-dimensional lattice."
      ]
    },
    {
      "cell_type": "code",
      "execution_count": null,
      "id": "mdvRBRW6JjFy",
      "metadata": {
        "id": "mdvRBRW6JjFy"
      },
      "outputs": [],
      "source": [
        "square_lattice = SquareLattice(rows=5, cols=4, boundary_condition=BoundaryCondition.PERIODIC)\n",
        "\n",
        "t = -1.0  # the interaction parameter\n",
        "v = 0.0  # the onsite potential\n",
        "u = 5.0  # the interaction parameter U\n",
        "\n",
        "fhm = FermiHubbardModel(\n",
        "    square_lattice.uniform_parameters(\n",
        "        uniform_interaction=t,\n",
        "        uniform_onsite_potential=v,\n",
        "    ),\n",
        "    onsite_interaction=u,\n",
        ")"
      ]
    },
    {
      "cell_type": "markdown",
      "id": "zTegtmhXJjFy",
      "metadata": {
        "id": "zTegtmhXJjFy"
      },
      "source": [
        "To obtain the Hamiltonian in terms of the fermionic operators, we use `second_q_ops` method.\n",
        "The Hamiltonian is returned as an instance of `FermionicOp`."
      ]
    },
    {
      "cell_type": "markdown",
      "id": "rK_GbOUYJjFy",
      "metadata": {
        "id": "rK_GbOUYJjFy"
      },
      "source": [
        "- Note\n",
        "    - The number of fermionic operators required is twice the number of lattice sites because of the spin degrees of freedom.\n",
        "    - In the implementation, even indexes correspond to up-spin and odd indexes to down-spin."
      ]
    },
    {
      "cell_type": "code",
      "execution_count": null,
      "id": "MB-UTtfIJjFy",
      "metadata": {
        "id": "MB-UTtfIJjFy"
      },
      "outputs": [],
      "source": [
        "ham = fhm.second_q_op().simplify()\n",
        "print(ham)"
      ]
    },
    {
      "cell_type": "markdown",
      "id": "b3YjqBduJjFy",
      "metadata": {
        "id": "b3YjqBduJjFy"
      },
      "source": [
        "`Lattice` has weights on its edges, so we can define a general interaction matrix using a Lattice instance.\n",
        "Here, we consider the Fermi-Hubbard model on a general lattice on which non-uniform interaction parameters are given.\n",
        "In this case, the weights of the lattice are regarded as the interaction matrix. After generating the Hamiltonian (`second_q_ops`) we can use a qubit mapper to generate the qubit operators and/or use any of the available algorithms to solver the corresponding lattice problem."
      ]
    },
    {
      "cell_type": "code",
      "execution_count": null,
      "id": "2lv6zEzMJjFz",
      "metadata": {
        "id": "2lv6zEzMJjFz"
      },
      "outputs": [],
      "source": [
        "graph = rx.PyGraph(multigraph=False)  # multiigraph shoud be False\n",
        "graph.add_nodes_from(range(6))\n",
        "weighted_edge_list = [\n",
        "    (0, 1, 1.0 + 1.0j),\n",
        "    (0, 2, -1.0),\n",
        "    (2, 3, 2.0),\n",
        "    (4, 2, -1.0 + 2.0j),\n",
        "    (4, 4, 3.0),\n",
        "    (2, 5, -1.0),\n",
        "]\n",
        "graph.add_edges_from(weighted_edge_list)\n",
        "\n",
        "general_lattice = Lattice(graph)  # the lattice whose weights are seen as the interaction matrix.\n",
        "u = 5.0  # the interaction parameter U\n",
        "\n",
        "fhm = FermiHubbardModel(lattice=general_lattice, onsite_interaction=u)\n",
        "\n",
        "ham = fhm.second_q_op().simplify()\n",
        "print(ham)"
      ]
    },
    {
      "cell_type": "markdown",
      "id": "24c04a2a",
      "metadata": {
        "id": "24c04a2a"
      },
      "source": [
        "## Mapping to the Qubit Space\n",
        "\n",
        "The problems and operators with which you interact in Qiskit Nature (usually) need to be mapped into the qubit space before they can be solved with our quantum algorithms. This task is handled by the various `QubitMapper` classes.\n",
        "\n",
        "In this tutorial, you will learn about the various options available to you."
      ]
    },
    {
      "cell_type": "markdown",
      "id": "03e6fc8d",
      "metadata": {
        "id": "03e6fc8d"
      },
      "source": [
        "### Fermionic Mappers\n",
        "\n",
        "This section deals with fermionic mappers, which transform fermionic operators into the qubit space.\n",
        "This is mostly used by the [electronic structure stack](01_electronic_structure.ipynb) but also finds application for the [`FermiHubbardModel`](TODO).\n",
        "\n",
        "There exist different mapping types with different properties. Qiskit Nature already supports the following fermionic mappings:\n",
        "\n",
        "* Jordan-Wigner (Zeitschrift für Physik, 47, 631-651 (1928))\n",
        "* Parity (The Journal of chemical physics, 137(22), 224109 (2012))\n",
        "* Bravyi-Kitaev (Annals of Physics, 298(1), 210-226 (2002))\n",
        "\n",
        "We will discuss some of these in the following sections. You should learn all the information necessary, to comfortable work with any of the available mappers."
      ]
    },
    {
      "cell_type": "markdown",
      "id": "70e75c4d",
      "metadata": {
        "id": "70e75c4d"
      },
      "source": [
        "In order to discuss the various mappings, we will be using the electronic structure Hamiltonian of the H2 molecule. For more information on how to obtain this, please refer to the [electronic structure tutorial](01_electronic_structure.ipynb)."
      ]
    },
    {
      "cell_type": "markdown",
      "id": "59db8061",
      "metadata": {
        "id": "59db8061"
      },
      "source": [
        "#### The Jordan-Wigner Mapping\n",
        "\n",
        "The Jordan-Wigner mapping is the most straight-forward mapping with the simplest physical interpretation, because it maps the occupation of one spin-orbital to the occupation of one qubit.\n",
        "\n",
        "<img src=\"https://github.com/osbama/Phys437/blob/main/Hands-On/Hands_on_5_images/jw_mapping.png?raw=1\" width=\"500\">\n",
        "\n",
        "You can construct use it like so:"
      ]
    },
    {
      "cell_type": "markdown",
      "id": "75b71e3c",
      "metadata": {
        "id": "75b71e3c"
      },
      "source": [
        "#### The Parity Mapping\n",
        "\n",
        "The Parity mapping is the dual mapping to the Jordan-Wigner one, in the sense that it encodes the parity information locally on one qubit, whereas the occupation information is delocalized over all qubits."
      ]
    },
    {
      "cell_type": "markdown",
      "id": "19dd459f",
      "metadata": {
        "id": "19dd459f"
      },
      "source": [
        "This has one major benefit for the case of problems in which we want to preserve the number of particles of each spin species; it allows us to remove 2 qubits, because the information in them becomes redundant.\n",
        "Since Qiskit Nature arranges the qubits in block-order, such that the first half encodes the alpha-spin, and the second half the beta-spin information, this means we can remove the N/2-th and N-th qubit.\n",
        "\n",
        "To do this, you need to specify the number of particles in your system, like so:"
      ]
    },
    {
      "cell_type": "markdown",
      "id": "2b4b1bec",
      "metadata": {
        "id": "2b4b1bec"
      },
      "source": [
        "#### More advanced qubit reductions\n",
        "\n",
        "It is also possible to perform more advanced qubit reductions, which are based on finding Z2 symmetries in the Hilbert space of the qubit. A requirement for this to be useful, is that you know in which symmetry-subspace you need to look for your actual solution of interest. This can be a bit tricky, but luckily the problem classes of Qiskit Nature provide you with a utility to automatically determine that correct subspace.\n",
        "\n"
      ]
    },
    {
      "cell_type": "markdown",
      "id": "0df25991",
      "metadata": {
        "id": "0df25991"
      },
      "source": [
        "#### Interleaved ordering\n",
        "\n",
        "As mentioned previously, Qiskit Nature arranges the fermionic spin-up and spin-down parts of the qubit register in block-order. However, sometimes one may want to interleave the registers instead. This can be achieved by means of the `InterleavedQubitMapper`."
      ]
    },
    {
      "cell_type": "markdown",
      "id": "F51ermF6JjFz",
      "metadata": {
        "id": "F51ermF6JjFz"
      },
      "source": [
        "## LatticeModelProblem\n",
        "Qiskit Nature also has a `LatticeModelProblem` class which allows the usage of the `GroundStateEigensolver` to calculate the ground state energy of a given lattice. You can use this class as follows:"
      ]
    },
    {
      "cell_type": "code",
      "execution_count": null,
      "id": "ANzkc06CJjFz",
      "metadata": {
        "id": "ANzkc06CJjFz"
      },
      "outputs": [],
      "source": [
        "from qiskit_nature.second_q.problems import LatticeModelProblem\n",
        "\n",
        "num_nodes = 4\n",
        "boundary_condition = BoundaryCondition.OPEN\n",
        "line_lattice = LineLattice(num_nodes=num_nodes, boundary_condition=boundary_condition)\n",
        "\n",
        "fhm = FermiHubbardModel(\n",
        "    line_lattice.uniform_parameters(\n",
        "        uniform_interaction=t,\n",
        "        uniform_onsite_potential=v,\n",
        "    ),\n",
        "    onsite_interaction=u,\n",
        ")\n",
        "\n",
        "lmp = LatticeModelProblem(fhm)"
      ]
    },
    {
      "cell_type": "code",
      "execution_count": null,
      "id": "F1W9FFM0JjF0",
      "metadata": {
        "id": "F1W9FFM0JjF0"
      },
      "outputs": [],
      "source": [
        "from qiskit_algorithms import NumPyMinimumEigensolver\n",
        "from qiskit_nature.second_q.algorithms import GroundStateEigensolver\n",
        "from qiskit_nature.second_q.mappers import JordanWignerMapper\n",
        "\n",
        "numpy_solver = NumPyMinimumEigensolver()\n",
        "\n",
        "qubit_mapper = JordanWignerMapper()\n",
        "\n",
        "calc = GroundStateEigensolver(qubit_mapper, numpy_solver)\n",
        "res = calc.solve(lmp)\n",
        "\n",
        "print(res)"
      ]
    },
    {
      "cell_type": "markdown",
      "id": "a2ecf1af-4d9d-482c-8cda-44ae649e40c3",
      "metadata": {
        "id": "a2ecf1af-4d9d-482c-8cda-44ae649e40c3"
      },
      "source": [
        "# Quadratic Hamiltonians and Slater determinants\n",
        "\n",
        "A quadratic Hamiltonian is a Hamiltonian of the form\n",
        "$$\n",
        "    H =\n",
        "    \\sum_{j, k} M_{jk} a^\\dagger_j a_k\n",
        "    + \\frac12 \\sum_{j, k}\n",
        "        (\\Delta_{jk} a^\\dagger_j a^\\dagger_k + \\Delta^*_{jk} a_k a_j)\n",
        "    + \\text{constant}\n",
        "$$\n",
        "where $M$ is a Hermitian matrix ($M^\\dagger = M$) and $\\Delta$ is an antisymmetric matrix ($\\Delta^T = -\\Delta$), and the $\\{a_j^\\dagger\\}$ are fermionic creation operators which satisfy the anticommutation relations\n",
        "$$\n",
        "    \\begin{align}\n",
        "        a_j a_k + a_k a_j &= 0 \\\\\n",
        "        a_j a^\\dagger_k + a^\\dagger_k a_j &= \\delta_{pq}\n",
        "    \\end{align}.\n",
        "$$\n",
        "\n",
        "Quadratic Hamiltonians are an important class of Hamiltonians that are classically tractable. Their eigenstates are called fermionic Gaussian states, and they can be efficiently prepared on a quantum computer. Qiskit Nature includes the `QuadraticHamiltonian` class for representing quadratic Hamiltonians.\n",
        "\n",
        "Of course, the `FermionicOp` class can also be used to represent any quadratic Hamiltonian. The reason to have a class specifically for quadratic Hamiltonians is that they support special numerical routines that involve performing linear algebra on the matrices $M$ and $\\Delta$. The internal representation format of `FermionicOp` is not suitable for these routines.\n",
        "\n",
        "A quadratic Hamiltonian is initialized like so:"
      ]
    },
    {
      "cell_type": "code",
      "execution_count": null,
      "id": "6b91735f-72e4-46de-a2fa-d2d89db53d6a",
      "metadata": {
        "id": "6b91735f-72e4-46de-a2fa-d2d89db53d6a",
        "tags": []
      },
      "outputs": [],
      "source": [
        "import numpy as np\n",
        "from qiskit_nature.second_q.hamiltonians import QuadraticHamiltonian\n",
        "\n",
        "# create Hamiltonian\n",
        "hermitian_part = np.array(\n",
        "    [\n",
        "        [1.0, 2.0, 0.0, 0.0],\n",
        "        [2.0, 1.0, 2.0, 0.0],\n",
        "        [0.0, 2.0, 1.0, 2.0],\n",
        "        [0.0, 0.0, 2.0, 1.0],\n",
        "    ]\n",
        ")\n",
        "antisymmetric_part = np.array(\n",
        "    [\n",
        "        [0.0, 3.0, 0.0, 0.0],\n",
        "        [-3.0, 0.0, 3.0, 0.0],\n",
        "        [0.0, -3.0, 0.0, 3.0],\n",
        "        [0.0, 0.0, -3.0, 0.0],\n",
        "    ]\n",
        ")\n",
        "constant = 4.0\n",
        "\n",
        "hamiltonian = QuadraticHamiltonian(\n",
        "    hermitian_part=hermitian_part,\n",
        "    antisymmetric_part=antisymmetric_part,\n",
        "    constant=constant,\n",
        ")\n",
        "\n",
        "# convert it to a FermionicOp and print it\n",
        "hamiltonian_ferm = hamiltonian.second_q_op()\n",
        "print(hamiltonian_ferm)"
      ]
    },
    {
      "cell_type": "markdown",
      "id": "93b2ca42-9947-45da-ad1e-7c11735dc5a5",
      "metadata": {
        "id": "93b2ca42-9947-45da-ad1e-7c11735dc5a5"
      },
      "source": [
        "## Diagonalization and state preparation\n",
        "A quadratic Hamiltonian can always be rewritten in the form\n",
        "$$\n",
        "    H = \\sum_{j} \\varepsilon_j b^\\dagger_j b_j + \\text{constant}\n",
        "$$\n",
        "where $\\varepsilon_0 \\leq \\varepsilon_1 \\leq \\cdots \\leq \\varepsilon_N$ are non-negative real numbers called orbitals energies and\n",
        "the $\\{b_j^\\dagger\\}$ are a new set of fermionic creation operators\n",
        "that also satisfy the canonical anticommutation relations.\n",
        "These new creation operators are linear combinations of the original creation and annihilation operators:\n",
        "$$\n",
        "    \\begin{pmatrix}\n",
        "    b^\\dagger_1 \\\\\n",
        "    \\vdots \\\\\n",
        "    b^\\dagger_N \\\\\n",
        "    \\end{pmatrix}\n",
        "    = W\n",
        "    \\begin{pmatrix}\n",
        "    a^\\dagger_1 \\\\\n",
        "    \\vdots \\\\\n",
        "    a^\\dagger_N \\\\\n",
        "    a_1 \\\\\n",
        "    \\vdots \\\\\n",
        "    a_N\n",
        "    \\end{pmatrix},\n",
        "$$\n",
        "where $W$ is an $N \\times 2N$ matrix. Given a basis of eigenvectors of the Hamiltonian, each eigenvector is labeled by a subset of $\\{0, \\ldots, N - 1\\}$, which we call the occupied orbitals. The corresponding eigenvalue is the sum of the corresponding values of $\\varepsilon_j$, plus the constant."
      ]
    },
    {
      "cell_type": "code",
      "execution_count": null,
      "id": "62be7f36-3abe-4bde-a2cf-82a5c667fa27",
      "metadata": {
        "id": "62be7f36-3abe-4bde-a2cf-82a5c667fa27"
      },
      "outputs": [],
      "source": [
        "# get the transformation matrix W and orbital energies {epsilon_j}\n",
        "(\n",
        "    transformation_matrix,\n",
        "    orbital_energies,\n",
        "    transformed_constant,\n",
        ") = hamiltonian.diagonalizing_bogoliubov_transform()\n",
        "\n",
        "print(f\"Shape of matrix W: {transformation_matrix.shape}\")\n",
        "print(f\"Orbital energies: {orbital_energies}\")\n",
        "print(f\"Transformed constant: {transformed_constant}\")"
      ]
    },
    {
      "cell_type": "markdown",
      "id": "8345dded-8bce-46b8-8edd-414ce4f87494",
      "metadata": {
        "id": "8345dded-8bce-46b8-8edd-414ce4f87494"
      },
      "source": [
        "The transformation matrix $W$ is used to construct a circuit to prepare an eigenvector of the Hamiltonian. The circuit is constructed using the `FermionicGaussianState` class. Currently, only the [Jordan-Wigner Transform](https://qiskit-community.github.io/qiskit-nature/stubs/qiskit_nature.second_q.mappers.JordanWignerMapper.html)\n",
        "is supported. The circuit for the Jordan-Wigner Transform has linear depth and uses only linear qubit connectivity. The algorithm is from [Phys. Rev. Applied 9, 044036](https://journals.aps.org/prapplied/abstract/10.1103/PhysRevApplied.9.044036)."
      ]
    },
    {
      "cell_type": "code",
      "execution_count": null,
      "id": "ef228c33-90d3-4fe7-a5f9-d42438aa559b",
      "metadata": {
        "id": "ef228c33-90d3-4fe7-a5f9-d42438aa559b"
      },
      "outputs": [],
      "source": [
        "from qiskit_nature.second_q.circuit.library import FermionicGaussianState\n",
        "\n",
        "occupied_orbitals = (0, 2)\n",
        "eig = np.sum(orbital_energies[list(occupied_orbitals)]) + transformed_constant\n",
        "print(f\"Eigenvalue: {eig}\")\n",
        "\n",
        "circuit = FermionicGaussianState(transformation_matrix, occupied_orbitals=occupied_orbitals)\n",
        "circuit.draw(\"mpl\")"
      ]
    },
    {
      "cell_type": "markdown",
      "id": "ba6d59f6-8dcf-4fe9-b40d-7fde3221e7b2",
      "metadata": {
        "id": "ba6d59f6-8dcf-4fe9-b40d-7fde3221e7b2"
      },
      "source": [
        "The following code cell simulates the circuit and verifies that the output state is indeed an eigenstate of the Hamiltonian with the expected eigenvalue."
      ]
    },
    {
      "cell_type": "code",
      "execution_count": null,
      "id": "498b232d-dde7-4248-aa61-be56a2b59a2d",
      "metadata": {
        "id": "498b232d-dde7-4248-aa61-be56a2b59a2d"
      },
      "outputs": [],
      "source": [
        "from qiskit.quantum_info import Statevector\n",
        "from qiskit_nature.second_q.mappers import JordanWignerMapper\n",
        "\n",
        "# simulate the circuit to get the final state\n",
        "state = np.array(Statevector(circuit))\n",
        "\n",
        "# convert the Hamiltonian to a matrix\n",
        "hamiltonian_jw = JordanWignerMapper().map(hamiltonian_ferm).to_matrix()\n",
        "\n",
        "# check that the state is an eigenvector with the expected eigenvalue\n",
        "np.testing.assert_allclose(hamiltonian_jw @ state, eig * state, atol=1e-8)"
      ]
    },
    {
      "cell_type": "markdown",
      "id": "e7d2a25e-5f5c-44ae-9e19-ff980704ed3a",
      "metadata": {
        "id": "e7d2a25e-5f5c-44ae-9e19-ff980704ed3a"
      },
      "source": [
        "## Slater determinants\n",
        "\n",
        "When the antisymmetric part $\\Delta = 0$, then the Hamiltonian conserves the number of particles. In this case, the basis change only needs to mix creation operators, not annihilation operators:\n",
        "$$\n",
        "    \\begin{pmatrix}\n",
        "    b^\\dagger_1 \\\\\n",
        "    \\vdots \\\\\n",
        "    b^\\dagger_N \\\\\n",
        "    \\end{pmatrix}\n",
        "    = W\n",
        "    \\begin{pmatrix}\n",
        "    a^\\dagger_1 \\\\\n",
        "    \\vdots \\\\\n",
        "    a^\\dagger_N \\\\\n",
        "    \\end{pmatrix},\n",
        "$$\n",
        "where now $W$ is an $N \\times N$ matrix. Furthermore, the orbital energies $\\{\\varepsilon_j\\}$ are allowed to be negative."
      ]
    },
    {
      "cell_type": "code",
      "execution_count": null,
      "id": "3193749f-727d-407c-bc22-e0e4e1127a57",
      "metadata": {
        "id": "3193749f-727d-407c-bc22-e0e4e1127a57"
      },
      "outputs": [],
      "source": [
        "# create Hamiltonian\n",
        "hermitian_part = np.array(\n",
        "    [\n",
        "        [1.0, 2.0, 0.0, 0.0],\n",
        "        [2.0, 1.0, 2.0, 0.0],\n",
        "        [0.0, 2.0, 1.0, 2.0],\n",
        "        [0.0, 0.0, 2.0, 1.0],\n",
        "    ]\n",
        ")\n",
        "constant = 4.0\n",
        "\n",
        "hamiltonian = QuadraticHamiltonian(\n",
        "    hermitian_part=hermitian_part,\n",
        "    constant=constant,\n",
        ")\n",
        "\n",
        "print(f\"Hamiltonian conserves particle number: {hamiltonian.conserves_particle_number()}\")"
      ]
    },
    {
      "cell_type": "code",
      "execution_count": null,
      "id": "46f07608-a62b-4530-bd27-447a08747f95",
      "metadata": {
        "id": "46f07608-a62b-4530-bd27-447a08747f95"
      },
      "outputs": [],
      "source": [
        "# get the transformation matrix W and orbital energies {epsilon_j}\n",
        "(\n",
        "    transformation_matrix,\n",
        "    orbital_energies,\n",
        "    transformed_constant,\n",
        ") = hamiltonian.diagonalizing_bogoliubov_transform()\n",
        "\n",
        "print(f\"Shape of matrix W: {transformation_matrix.shape}\")\n",
        "print(f\"Orbital energies: {orbital_energies}\")\n",
        "print(f\"Transformed constant: {transformed_constant}\")"
      ]
    },
    {
      "cell_type": "markdown",
      "id": "c1c223ae-04cb-4851-a473-76b5368049d9",
      "metadata": {
        "id": "c1c223ae-04cb-4851-a473-76b5368049d9"
      },
      "source": [
        "In this special case, the eigenstates are called Slater determinants, and a more efficient algorithm is used to prepare them. This algorithm is accessed by using the `SlaterDeterminant` class instead of `FermionicGaussianState`. `SlaterDeterminant` does not take the occupied orbitals as input. Instead, the shape of the transformation matrix is allowed to vary. It should be an $\\eta \\times N$ matrix where $\\eta$ is the number of particles."
      ]
    },
    {
      "cell_type": "code",
      "execution_count": null,
      "id": "f9f232ea-81bb-472f-a3d4-8deacea65be4",
      "metadata": {
        "id": "f9f232ea-81bb-472f-a3d4-8deacea65be4",
        "tags": [
          "nbsphinx-thumbnail"
        ]
      },
      "outputs": [],
      "source": [
        "from qiskit_nature.second_q.circuit.library import SlaterDeterminant\n",
        "\n",
        "occupied_orbitals = (0, 2)\n",
        "eig = np.sum(orbital_energies[list(occupied_orbitals)]) + transformed_constant\n",
        "print(f\"Eigenvalue: {eig}\")\n",
        "\n",
        "circuit = SlaterDeterminant(transformation_matrix[list(occupied_orbitals)])\n",
        "circuit.draw(\"mpl\")"
      ]
    },
    {
      "cell_type": "markdown",
      "id": "a37fe6fb-d960-408e-b3b3-da9c130884da",
      "metadata": {
        "id": "a37fe6fb-d960-408e-b3b3-da9c130884da"
      },
      "source": [
        "## Time evolution\n",
        "\n",
        "Time evolution under a quadratic Hamiltonian can be easily performed by changing into the diagonal basis of the Hamiltonian. The state preparation circuits shown above effect this basis change, but they are optimized for state preparation from a computational basis state (assumed to be the all zeros state), and they do not work on arbitrary states. The general unitary basis change which does work on arbitrary states is called the Bogoliubov transform, and it is also implemented in Qiskit Nature.\n",
        "\n",
        "The code block below demonstrates the use of the Bogoliubov transform to implement time evolution for a quadratic Hamiltonian."
      ]
    },
    {
      "cell_type": "code",
      "execution_count": null,
      "id": "229a7a9b-b7cc-429b-8df9-175251d7f363",
      "metadata": {
        "id": "229a7a9b-b7cc-429b-8df9-175251d7f363",
        "tags": []
      },
      "outputs": [],
      "source": [
        "from qiskit_nature.second_q.circuit.library import BogoliubovTransform\n",
        "from qiskit import QuantumCircuit, QuantumRegister\n",
        "from qiskit.quantum_info import random_hermitian, random_statevector, state_fidelity\n",
        "from scipy.linalg import expm\n",
        "\n",
        "# create Hamiltonian\n",
        "n_modes = 5\n",
        "hermitian_part = np.array(random_hermitian(n_modes))\n",
        "hamiltonian = QuadraticHamiltonian(hermitian_part=hermitian_part)\n",
        "\n",
        "# diagonalize Hamiltonian\n",
        "(\n",
        "    transformation_matrix,\n",
        "    orbital_energies,\n",
        "    _,\n",
        ") = hamiltonian.diagonalizing_bogoliubov_transform()\n",
        "\n",
        "# set simulation time and construct time evolution circuit\n",
        "time = 1.0\n",
        "register = QuantumRegister(n_modes)\n",
        "circuit = QuantumCircuit(register)\n",
        "bog_circuit = BogoliubovTransform(transformation_matrix)\n",
        "# change to the diagonal basis of the Hamiltonian\n",
        "circuit.append(bog_circuit.inverse(), register)\n",
        "# perform time evolution by applying z rotations\n",
        "for q, energy in zip(register, orbital_energies):\n",
        "    circuit.rz(-energy * time, q)\n",
        "# change back to the original basis\n",
        "circuit.append(bog_circuit, register)\n",
        "\n",
        "# simulate the circuit\n",
        "initial_state = random_statevector(2**n_modes)\n",
        "final_state = initial_state.evolve(circuit)\n",
        "\n",
        "# compute the correct state by direct exponentiation\n",
        "hamiltonian_jw = JordanWignerMapper().map(hamiltonian.second_q_op()).to_matrix()\n",
        "exact_evolution_op = expm(-1j * time * hamiltonian_jw)\n",
        "expected_state = exact_evolution_op @ np.array(initial_state)\n",
        "\n",
        "# check that the simulated state is correct\n",
        "fidelity = state_fidelity(final_state, expected_state)\n",
        "print (\"Fidelity:\",fidelity)"
      ]
    },
    {
      "cell_type": "markdown",
      "id": "ee10faea-cd2b-47bf-9e1e-913cbec16724",
      "metadata": {
        "id": "ee10faea-cd2b-47bf-9e1e-913cbec16724"
      },
      "source": [
        "# Midterm take home programming part\n",
        "\n",
        "Define a periodic line lattice with four nodes. Use Jordan-Wigner mapper to qubitize Fermi-Hubbard model. Use the same mapper to create a half filled state (i.e. first two nodes are filled, rest are empty). Trotterize using SuzukiTrotter. Define an operator that gives you the total charge at each site. Evolve. Try regimes where v=0 U~0.1v U~1v U~10v (keep t=-1). Do you see any differences in behaviour?  "
      ]
    },
    {
      "cell_type": "code",
      "source": [
        "import numpy as np\n",
        "from qiskit_nature.second_q.hamiltonians import FermiHubbardModel\n",
        "from qiskit_nature.second_q.hamiltonians.lattices import LineLattice, BoundaryCondition\n",
        "from qiskit_nature.second_q.mappers import JordanWignerMapper\n",
        "from qiskit_nature.second_q.problems import LatticeModelProblem\n",
        "from qiskit.quantum_info import Statevector\n",
        "from qiskit.circuit.library import PauliEvolutionGate\n",
        "from qiskit.synthesis import SuzukiTrotter\n",
        "from qiskit import QuantumCircuit\n",
        "import matplotlib.pyplot as plt\n",
        "from qiskit.quantum_info import SparsePauliOp\n",
        "\n",
        "num_nodes = 4\n",
        "boundary_condition = BoundaryCondition.PERIODIC\n",
        "line_lattice = LineLattice(num_nodes=num_nodes, boundary_condition=boundary_condition)\n",
        "\n",
        "\n",
        "t = -1.0\n",
        "v = 0.0\n",
        "u_values = [0.1 * abs(t), 1.0 * abs(t), 10.0 * abs(t)]\n",
        "\n",
        "\n",
        "fhm = FermiHubbardModel(\n",
        "    line_lattice.uniform_parameters(uniform_interaction=t, uniform_onsite_potential=v),\n",
        "    onsite_interaction=0.0,\n",
        ")\n",
        "\n",
        "\n",
        "jw_mapper = JordanWignerMapper()\n",
        "hamiltonian = jw_mapper.map(fhm.second_q_op())\n",
        "\n",
        "half_filled_state = Statevector.from_label(\"1100\")\n",
        "\n",
        "time = 10.0\n",
        "num_timesteps = 100  #\n",
        "dt = time / num_timesteps\n",
        "\n",
        "\n",
        "def create_trotter_circuit(hamiltonian, u_value):\n",
        "    fhm.onsite_interaction = u_value\n",
        "    hamiltonian = jw_mapper.map(fhm.second_q_op())\n",
        "\n",
        "    trotter_step = PauliEvolutionGate(hamiltonian, dt, synthesis=SuzukiTrotter())\n",
        "\n",
        "    circuit = QuantumCircuit(hamiltonian.num_qubits)\n",
        "    for _ in range(num_timesteps):\n",
        "        circuit.append(trotter_step, range(hamiltonian.num_qubits))\n",
        "\n",
        "    return circuit\n",
        "\n",
        "\n",
        "\n",
        "\n",
        "pauli_strings = [\"Z\" + \"I\" * (num_nodes - 1 - i) + \"I\" * i for i in range(num_nodes)]\n",
        "coefficients = [1.0] * num_nodes\n",
        "\n",
        "charge_operator = SparsePauliOp(pauli_strings, coefficients)\n",
        "\n",
        "\n",
        "results = {}\n",
        "for u_value in u_values:\n",
        "    fhm.onsite_interaction = u_value\n",
        "    hamiltonian = jw_mapper.map(fhm.second_q_op())\n",
        "\n",
        "\n",
        "    trotter_step = PauliEvolutionGate(hamiltonian, dt, synthesis=SuzukiTrotter())\n",
        "\n",
        "\n",
        "    num_qubits = hamiltonian.num_qubits\n",
        "    circuit = QuantumCircuit(num_qubits)\n",
        "\n",
        "    half_filled_state = Statevector.from_label(\"1\" * (num_qubits // 2) + \"0\" * (num_qubits - num_qubits // 2))\n",
        "\n",
        "    # Apply Trotter steps\n",
        "    for _ in range(num_timesteps):\n",
        "        circuit.append(trotter_step, range(num_qubits))\n",
        "\n",
        "    evolved_state = half_filled_state.evolve(circuit)\n",
        "\n",
        "    charges = np.real([evolved_state.expectation_value(charge_operator)])\n",
        "\n",
        "    results[u_value] = charges\n",
        "\n",
        "for u_value, charges in results.items():\n",
        "    print(u_value,charges)\n",
        "\n"
      ],
      "metadata": {
        "colab": {
          "base_uri": "https://localhost:8080/"
        },
        "id": "jbIDH7OFkWgr",
        "outputId": "5a98bc7b-600e-4667-d531-d868895961e3"
      },
      "id": "jbIDH7OFkWgr",
      "execution_count": 31,
      "outputs": [
        {
          "output_type": "stream",
          "name": "stdout",
          "text": [
            "0.1 [1.67993131]\n",
            "1.0 [1.67993131]\n",
            "10.0 [1.67993131]\n"
          ]
        }
      ]
    }
  ],
  "metadata": {
    "colab": {
      "provenance": []
    },
    "kernelspec": {
      "display_name": "Python 3 (ipykernel)",
      "language": "python",
      "name": "python3"
    },
    "language_info": {
      "codemirror_mode": {
        "name": "ipython",
        "version": 3
      },
      "file_extension": ".py",
      "mimetype": "text/x-python",
      "name": "python",
      "nbconvert_exporter": "python",
      "pygments_lexer": "ipython3",
      "version": "3.12.7"
    }
  },
  "nbformat": 4,
  "nbformat_minor": 5
}